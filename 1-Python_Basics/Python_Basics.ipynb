{
 "cells": [
  {
   "cell_type": "markdown",
   "metadata": {},
   "source": [
    "# Python Basics\n",
    "Prepared by: Nickolas K. Freeman, Ph.D.\n",
    "\n",
    "This notebook provides a very basic introduction to the Python programming language. The following description of the Python language was taken from https://en.wikipedia.org/wiki/Python_(programming_language) on 1/6/2018, and serves as a good introduction to the language.\n",
    "\n",
    ">Python is an interpreted high-level programming language for general-purpose programming. Created by Guido van Rossum and first released in 1991, Python has a design philosophy that emphasizes code readability, and a syntax that allows programmers to express concepts in fewer lines of code, notably using significant whitespace. It provides constructs that enable clear programming on both small and large scales.\n",
    ">\n",
    ">Python is a multi-paradigm programming language. Object-oriented programming and structured programming are fully supported, and many of its features support functional programming and aspect-oriented programming (including by metaprogramming and metaobjects (magic methods)). Many other paradigms are supported via extensions, including design by contract and logic programming.\n",
    ">\n",
    ">The language's core philosophy is summarized in the document The Zen of Python (PEP 20), which includes aphorisms such as:\n",
    ">\n",
    "> - Beautiful is better than ugly\n",
    "> - Explicit is better than implicit\n",
    "> - Simple is better than complex\n",
    "> - Complex is better than complicated\n",
    "> - Readability counts\n",
    ">\n",
    "> Rather than having all of its functionality built into its core, Python was designed to be highly extensible. This compact modularity has made it particularly popular as a means of adding programmable interfaces to existing applications. Van Rossum's vision of a small core language with a large standard library and easily extensible interpreter stemmed from his frustrations with ABC, another programming language that espoused the opposite approach.\n",
    ">\n",
    "> While offering choice in coding methodology, the Python philosophy rejects exuberant syntax (such as that of Perl) in favor of a simpler, less-cluttered grammar. As Alex Martelli put it: \"To describe something as 'clever' is not considered a compliment in the Python culture.\" Python's philosophy rejects the Perl \"there is more than one way to do it\" approach to language design in favor of \"there should be one—and preferably only one—obvious way to do it\".\n",
    ">\n",
    ">Python's developers strive to avoid premature optimization, and reject patches to non-critical parts of CPython that would offer marginal increases in speed at the cost of clarity. When speed is important, a Python programmer can move time-critical functions to extension modules written in languages such as C, or use PyPy, a just-in-time compiler. Cython is also available, which translates a Python script into C and makes direct C-level API calls into the Python interpreter.\n",
    ">\n",
    ">An important goal of Python's developers is keeping it fun to use. This is reflected in the language's name—a tribute to the British comedy group Monty Python—and in occasionally playful approaches to tutorials and reference materials, such as examples that refer to spam and eggs (from a famous Monty Python sketch) instead of the standard foo and bar.\n",
    ">\n",
    ">A common neologism in the Python community is *pythonic*, which can have a wide range of meanings related to program style. To say that code is pythonic is to say that it uses Python idioms well, that it is natural or shows fluency in the language, that it conforms with Python's minimalist philosophy and emphasis on readability. In contrast, code that is difficult to understand or reads like a rough transcription from another programming language is called unpythonic.\n",
    ">\n",
    ">Users and admirers of Python, especially those considered knowledgeable or experienced, are often referred to as Pythonists, Pythonistas, and Pythoneers"
   ]
  },
  {
   "cell_type": "markdown",
   "metadata": {},
   "source": [
    "Executing (`<SHIFT> + <ENTER>` in a Jupyter notebook) the statement `import this` will print *The Zen of Python*, a set of guiding principles for python developers."
   ]
  },
  {
   "cell_type": "code",
   "execution_count": 1,
   "metadata": {},
   "outputs": [
    {
     "name": "stdout",
     "output_type": "stream",
     "text": [
      "The Zen of Python, by Tim Peters\n",
      "\n",
      "Beautiful is better than ugly.\n",
      "Explicit is better than implicit.\n",
      "Simple is better than complex.\n",
      "Complex is better than complicated.\n",
      "Flat is better than nested.\n",
      "Sparse is better than dense.\n",
      "Readability counts.\n",
      "Special cases aren't special enough to break the rules.\n",
      "Although practicality beats purity.\n",
      "Errors should never pass silently.\n",
      "Unless explicitly silenced.\n",
      "In the face of ambiguity, refuse the temptation to guess.\n",
      "There should be one-- and preferably only one --obvious way to do it.\n",
      "Although that way may not be obvious at first unless you're Dutch.\n",
      "Now is better than never.\n",
      "Although never is often better than *right* now.\n",
      "If the implementation is hard to explain, it's a bad idea.\n",
      "If the implementation is easy to explain, it may be a good idea.\n",
      "Namespaces are one honking great idea -- let's do more of those!\n"
     ]
    }
   ],
   "source": [
    "import this"
   ]
  },
  {
   "cell_type": "markdown",
   "metadata": {},
   "source": [
    "The following table of contents lists the topics discussed in this notebook. Clicking on any topic will advance the notebook to the associated area."
   ]
  },
  {
   "cell_type": "markdown",
   "metadata": {},
   "source": [
    "# Table of Contents\n",
    "<a id=\"Table_of_Contents\"> </a>\n",
    "1. [Getting Help](#Getting_Help)<br>\n",
    "2. [Mathematical Operations and Precedence Relationships](#Math_Ops_Prec)<br>\n",
    "3. [Variables](#Variables)<br>\n",
    "4. [Flow Control](#Flow_Control)<br>\n",
    "    4.1 [The Importance of Spacing](#Importance_of_spacing)<br>\n",
    "    4.2 [if Statements](#if_Statements)<br>\n",
    "    4.3 [while Loops](#while_Loops)<br>\n",
    "    4.4 [break Statements](#break_Statements)<br>\n",
    "    4.5 [continue Statements](#continue_Statements)<br>\n",
    "    4.6 [for Loops](#for_Loops)<br>\n",
    "5. [Data Structures](#Data_Structures)<br>\n",
    "    5.1 [Lists](#Lists)<br>\n",
    "    5.2 [List Comprehensions](#List_Comprehensions)<br>\n",
    "    5.3 [Accessing List Elements](#Access_List_Elements)<br>\n",
    "    5.4 [Iterating Over Lists](#Iterating_Over_Lists)<br>\n",
    "    5.5 [Dictionaries](#Dictionaries)<br>\n",
    "    5.6 [Tuples](#Tuples)<br>\n",
    "    5.7 [Sets](#Sets)<br>  \n",
    "6. [String Formatting](#String_formatting)<br>\n",
    "7. [Error Handling](#Error_Handling)"
   ]
  },
  {
   "cell_type": "markdown",
   "metadata": {},
   "source": [
    "#### Disclaimer\n",
    "\n",
    "As stated previously, this notebook doesn't represent a *comprehensive* overview of the Python programming language. Instead, it provides basic details on data structures that are useful for addressing problems in operations and supply chain management. In this notebook, we will primarly be using objects and operations that are defined in the base language. Other notebooks will look at the extended functionality available through additional libraries that may be imported into a Python project. \n",
    "\n",
    "Before continuing, it is important to realize that the Python language and the available libraries will continue to evolve. That being said, the objects, functions, and methods described in this notebook may one day change. If changes occur, areas of this notebook that use deprecated features may cease to work and will need to be revised or omitted."
   ]
  },
  {
   "cell_type": "markdown",
   "metadata": {},
   "source": [
    "## Getting Help\n",
    "<a id=\"Getting_Help\"> </a>\n",
    "\n",
    "Compared to existing languages, Python is very user-friendly in the sense that documentation on the various modules and methods is generally available and easy to access while coding. You can find information regarding Python functions using the built in `help()` function.\n",
    "\n",
    "[Back to Table of Contents](#Table_of_Contents)<br>"
   ]
  },
  {
   "cell_type": "code",
   "execution_count": 2,
   "metadata": {},
   "outputs": [
    {
     "name": "stdout",
     "output_type": "stream",
     "text": [
      "Help on built-in function print in module builtins:\n",
      "\n",
      "print(...)\n",
      "    print(value, ..., sep=' ', end='\\n', file=sys.stdout, flush=False)\n",
      "    \n",
      "    Prints the values to a stream, or to sys.stdout by default.\n",
      "    Optional keyword arguments:\n",
      "    file:  a file-like object (stream); defaults to the current sys.stdout.\n",
      "    sep:   string inserted between values, default a space.\n",
      "    end:   string appended after the last value, default a newline.\n",
      "    flush: whether to forcibly flush the stream.\n",
      "\n"
     ]
    }
   ],
   "source": [
    "help(print)"
   ]
  },
  {
   "cell_type": "markdown",
   "metadata": {},
   "source": [
    "Although we will largely be avoiding the use of libraries that fall outside of the Python base code in this notebook, it is worth noting that you can also use the `help()` function to find information regarding functions and attributes of imported libraries. The following cell block provides an example that shows how to find for the `std()` function that is part of the NumPy library. We will explore the `NumPy` library in more detail in another notebook. \n",
    "\n",
    "[Back to Table of Contents](#Table_of_Contents)<br>"
   ]
  },
  {
   "cell_type": "code",
   "execution_count": 3,
   "metadata": {},
   "outputs": [
    {
     "name": "stdout",
     "output_type": "stream",
     "text": [
      "Help on function std in module numpy:\n",
      "\n",
      "std(a, axis=None, dtype=None, out=None, ddof=0, keepdims=<no value>)\n",
      "    Compute the standard deviation along the specified axis.\n",
      "    \n",
      "    Returns the standard deviation, a measure of the spread of a distribution,\n",
      "    of the array elements. The standard deviation is computed for the\n",
      "    flattened array by default, otherwise over the specified axis.\n",
      "    \n",
      "    Parameters\n",
      "    ----------\n",
      "    a : array_like\n",
      "        Calculate the standard deviation of these values.\n",
      "    axis : None or int or tuple of ints, optional\n",
      "        Axis or axes along which the standard deviation is computed. The\n",
      "        default is to compute the standard deviation of the flattened array.\n",
      "    \n",
      "        .. versionadded:: 1.7.0\n",
      "    \n",
      "        If this is a tuple of ints, a standard deviation is performed over\n",
      "        multiple axes, instead of a single axis or all the axes as before.\n",
      "    dtype : dtype, optional\n",
      "        Type to use in computing the standard deviation. For arrays of\n",
      "        integer type the default is float64, for arrays of float types it is\n",
      "        the same as the array type.\n",
      "    out : ndarray, optional\n",
      "        Alternative output array in which to place the result. It must have\n",
      "        the same shape as the expected output but the type (of the calculated\n",
      "        values) will be cast if necessary.\n",
      "    ddof : int, optional\n",
      "        Means Delta Degrees of Freedom.  The divisor used in calculations\n",
      "        is ``N - ddof``, where ``N`` represents the number of elements.\n",
      "        By default `ddof` is zero.\n",
      "    keepdims : bool, optional\n",
      "        If this is set to True, the axes which are reduced are left\n",
      "        in the result as dimensions with size one. With this option,\n",
      "        the result will broadcast correctly against the input array.\n",
      "    \n",
      "        If the default value is passed, then `keepdims` will not be\n",
      "        passed through to the `std` method of sub-classes of\n",
      "        `ndarray`, however any non-default value will be.  If the\n",
      "        sub-class' method does not implement `keepdims` any\n",
      "        exceptions will be raised.\n",
      "    \n",
      "    Returns\n",
      "    -------\n",
      "    standard_deviation : ndarray, see dtype parameter above.\n",
      "        If `out` is None, return a new array containing the standard deviation,\n",
      "        otherwise return a reference to the output array.\n",
      "    \n",
      "    See Also\n",
      "    --------\n",
      "    var, mean, nanmean, nanstd, nanvar\n",
      "    numpy.doc.ufuncs : Section \"Output arguments\"\n",
      "    \n",
      "    Notes\n",
      "    -----\n",
      "    The standard deviation is the square root of the average of the squared\n",
      "    deviations from the mean, i.e., ``std = sqrt(mean(abs(x - x.mean())**2))``.\n",
      "    \n",
      "    The average squared deviation is normally calculated as\n",
      "    ``x.sum() / N``, where ``N = len(x)``.  If, however, `ddof` is specified,\n",
      "    the divisor ``N - ddof`` is used instead. In standard statistical\n",
      "    practice, ``ddof=1`` provides an unbiased estimator of the variance\n",
      "    of the infinite population. ``ddof=0`` provides a maximum likelihood\n",
      "    estimate of the variance for normally distributed variables. The\n",
      "    standard deviation computed in this function is the square root of\n",
      "    the estimated variance, so even with ``ddof=1``, it will not be an\n",
      "    unbiased estimate of the standard deviation per se.\n",
      "    \n",
      "    Note that, for complex numbers, `std` takes the absolute\n",
      "    value before squaring, so that the result is always real and nonnegative.\n",
      "    \n",
      "    For floating-point input, the *std* is computed using the same\n",
      "    precision the input has. Depending on the input data, this can cause\n",
      "    the results to be inaccurate, especially for float32 (see example below).\n",
      "    Specifying a higher-accuracy accumulator using the `dtype` keyword can\n",
      "    alleviate this issue.\n",
      "    \n",
      "    Examples\n",
      "    --------\n",
      "    >>> a = np.array([[1, 2], [3, 4]])\n",
      "    >>> np.std(a)\n",
      "    1.1180339887498949\n",
      "    >>> np.std(a, axis=0)\n",
      "    array([ 1.,  1.])\n",
      "    >>> np.std(a, axis=1)\n",
      "    array([ 0.5,  0.5])\n",
      "    \n",
      "    In single precision, std() can be inaccurate:\n",
      "    \n",
      "    >>> a = np.zeros((2, 512*512), dtype=np.float32)\n",
      "    >>> a[0, :] = 1.0\n",
      "    >>> a[1, :] = 0.1\n",
      "    >>> np.std(a)\n",
      "    0.45000005\n",
      "    \n",
      "    Computing the standard deviation in float64 is more accurate:\n",
      "    \n",
      "    >>> np.std(a, dtype=np.float64)\n",
      "    0.44999999925494177\n",
      "\n"
     ]
    }
   ],
   "source": [
    "import numpy as np\n",
    "help(np.std)"
   ]
  },
  {
   "cell_type": "markdown",
   "metadata": {},
   "source": [
    "Finally, in a Jupyter notebook, hitting the key combination `<SHIFT> + <TAB>` within the arguments area of a Python function will bring up help on the associated function.\n",
    "\n",
    "[Back to Table of Contents](#Table_of_Contents)<br>"
   ]
  },
  {
   "cell_type": "markdown",
   "metadata": {},
   "source": [
    "## Mathematical Operations and Precedence Relationships\n",
    "<a id=\"Math_Ops_Prec\"> </a>\n",
    "\n",
    "It will often be the case that we wish to perform computations in our programs. The basic mathematical operators implemented in Python follow. \n",
    "\n",
    "- `**` denotes exonentiation (example: `2 ** 3` evaluates to `8`)\n",
    "- `%` denotes the modulus/remainder operation (example: `22 % 8` evaluates to `6`)\n",
    "- `//` denotes integer division (example: `22 // 8` evaluates to `2`)\n",
    "- `/` denotes floating-point division (example: `22 / 8` evaluates to `2.75`)\n",
    "- `*` denotes multiplication (example: `3 * 5` evaluates to `15`)\n",
    "- `-` denotes subtration (example: `5 - 2` evaluates to `3`)\n",
    "- `+` denotes addition (example: `5 + 2` evaluates to `7`)\n",
    "\n",
    "As is true for mathematics in general, Python enforces a precedence relatioship among the basic operators.  The list of basic operators is sorted by highest to lowest precedence. For example, the exponentiation operator takes precedence over the subtraction operation. Thus, for the expression `3 + 5 ** 2`, Python will first evaluate `5 ** 2`, which is 25, then `3 + 25`. \n",
    "\n",
    "Parentheses can be used to enforce a custom precedence relationship. For example, if we write `(3 + 5) ** 2` instead of `3 + 5 ** 2`, Python will first evaluate `3 + 5`, which is 8, then `8 ** 2`. The following two code blocks confirm this behavior.\n",
    "\n",
    "[Back to Table of Contents](#Table_of_Contents)<br>"
   ]
  },
  {
   "cell_type": "code",
   "execution_count": 4,
   "metadata": {},
   "outputs": [
    {
     "data": {
      "text/plain": [
       "28"
      ]
     },
     "execution_count": 4,
     "metadata": {},
     "output_type": "execute_result"
    }
   ],
   "source": [
    "# Without parentheses\n",
    "3 + 5 ** 2"
   ]
  },
  {
   "cell_type": "code",
   "execution_count": 5,
   "metadata": {},
   "outputs": [
    {
     "data": {
      "text/plain": [
       "64"
      ]
     },
     "execution_count": 5,
     "metadata": {},
     "output_type": "execute_result"
    }
   ],
   "source": [
    "# With parentheses\n",
    "(3 + 5) ** 2"
   ]
  },
  {
   "cell_type": "markdown",
   "metadata": {},
   "source": [
    "## Variables\n",
    "<a id=\"Variables\"> </a>\n",
    "\n",
    "Oftentimes, we will need some form of intermediate storage for complex computations or objects. In most programming languages, such storage means are referred to as *variables*. Essentially, a variable is like a partition of your computer's memory where you store an object or value(s). This allows you to use the object or value later in your program.\n",
    "\n",
    "You create variables using an *assignment statement*. For example, the statement `my_var = 2` creates a new variable named `my_var` and storing the value 42 in it. When naming variables, it is helpful to name them in a manner that reminds you of the value or object stored. You can name a variable anything you would like as long as:\n",
    "1. It can be only one word, i.e., no spaces.\n",
    "2. It can use only letters, numbers, and the underscore (_) character.\n",
    "3. It can’t begin with a number.\n",
    "\n",
    "The value or object that is assigned to a variable can be updated throughout the execution of a program. The following code block demonstrates this.\n",
    "\n",
    "[Back to Table of Contents](#Table_of_Contents)<br>"
   ]
  },
  {
   "cell_type": "code",
   "execution_count": 6,
   "metadata": {},
   "outputs": [
    {
     "name": "stdout",
     "output_type": "stream",
     "text": [
      "The value of my_var is 1\n",
      "The value of my_var is 2\n"
     ]
    }
   ],
   "source": [
    "my_var = 1\n",
    "\n",
    "print('The value of my_var is',my_var)\n",
    "\n",
    "my_var = 2\n",
    "\n",
    "print('The value of my_var is',my_var)"
   ]
  },
  {
   "cell_type": "markdown",
   "metadata": {},
   "source": [
    "## Flow Control\n",
    "<a id=\"Variables\"> </a>\n",
    "\n",
    "A major benefit of using a programming language to perform a computational task is the ability to control follow, evaluating expressions repeatedly, skipping computations in certain cases, or choosing one of many conditions to run depending on a condition. This section demonstrates several techniques that can be used to control the flow of a program. \n",
    "\n",
    "Before dicussing different mechanisms for flow control, it is important to understand the various comparison operators that are available in Python.\n",
    "\n",
    "- the comparison operator `==` means *Equal to*\n",
    "- the comparison operator `!=` means *Not equal to*\n",
    "- the comparison operator `<` means *Less than*\n",
    "- the comparison operator `>` means *Greater than*\n",
    "- the comparison operator `<=` means *Less than or equal to*\n",
    "- the comparison operator `>=` means *Greater than or equal to*\n",
    "\n",
    "These operators evaluate to `True` or `False`, which are *boolean* statements in Python, depending on the values/epressions they are contained in. The following code blocks provides some examples. \n",
    "\n",
    "[Back to Table of Contents](#Table_of_Contents)<br>"
   ]
  },
  {
   "cell_type": "code",
   "execution_count": 7,
   "metadata": {},
   "outputs": [
    {
     "data": {
      "text/plain": [
       "True"
      ]
     },
     "execution_count": 7,
     "metadata": {},
     "output_type": "execute_result"
    }
   ],
   "source": [
    "3 == 3"
   ]
  },
  {
   "cell_type": "code",
   "execution_count": 8,
   "metadata": {},
   "outputs": [
    {
     "data": {
      "text/plain": [
       "False"
      ]
     },
     "execution_count": 8,
     "metadata": {},
     "output_type": "execute_result"
    }
   ],
   "source": [
    "3 != 3"
   ]
  },
  {
   "cell_type": "code",
   "execution_count": 9,
   "metadata": {},
   "outputs": [
    {
     "data": {
      "text/plain": [
       "False"
      ]
     },
     "execution_count": 9,
     "metadata": {},
     "output_type": "execute_result"
    }
   ],
   "source": [
    "3 > 3"
   ]
  },
  {
   "cell_type": "code",
   "execution_count": 10,
   "metadata": {},
   "outputs": [
    {
     "data": {
      "text/plain": [
       "False"
      ]
     },
     "execution_count": 10,
     "metadata": {},
     "output_type": "execute_result"
    }
   ],
   "source": [
    "3 < 3"
   ]
  },
  {
   "cell_type": "code",
   "execution_count": 11,
   "metadata": {},
   "outputs": [
    {
     "data": {
      "text/plain": [
       "True"
      ]
     },
     "execution_count": 11,
     "metadata": {},
     "output_type": "execute_result"
    }
   ],
   "source": [
    "3 >= 3"
   ]
  },
  {
   "cell_type": "code",
   "execution_count": 12,
   "metadata": {},
   "outputs": [
    {
     "data": {
      "text/plain": [
       "True"
      ]
     },
     "execution_count": 12,
     "metadata": {},
     "output_type": "execute_result"
    }
   ],
   "source": [
    "3 <= 3"
   ]
  },
  {
   "cell_type": "markdown",
   "metadata": {},
   "source": [
    "You can combine the comparison operators with the additional *boolean* operators `and`, `or`, and `not` to develop more complex expressions. The following code blocks provide examples.\n",
    "\n",
    "[Back to Table of Contents](#Table_of_Contents)<br>"
   ]
  },
  {
   "cell_type": "code",
   "execution_count": 13,
   "metadata": {},
   "outputs": [
    {
     "data": {
      "text/plain": [
       "False"
      ]
     },
     "execution_count": 13,
     "metadata": {},
     "output_type": "execute_result"
    }
   ],
   "source": [
    "(3 > 4) and (((5 - 7)**2) > 3)"
   ]
  },
  {
   "cell_type": "code",
   "execution_count": 14,
   "metadata": {},
   "outputs": [
    {
     "data": {
      "text/plain": [
       "True"
      ]
     },
     "execution_count": 14,
     "metadata": {},
     "output_type": "execute_result"
    }
   ],
   "source": [
    "(3 > 4) or (((5 - 7)**2) > 3)"
   ]
  },
  {
   "cell_type": "code",
   "execution_count": 15,
   "metadata": {},
   "outputs": [
    {
     "data": {
      "text/plain": [
       "True"
      ]
     },
     "execution_count": 15,
     "metadata": {},
     "output_type": "execute_result"
    }
   ],
   "source": [
    "not (3 > 4)"
   ]
  },
  {
   "cell_type": "markdown",
   "metadata": {},
   "source": [
    "### The importance of spacing \n",
    "<a id=\"Importance_of_spacing\"> </a>\n",
    "\n",
    "If you are familiar with other coding languages, you are likely used to suing some form of braces to indicate that statements are nested. For example, defining a loop that prints the numbers in the interval [0, 10] in C++ may be accomplished with the code:\n",
    "\n",
    "`#include <iostream>\n",
    "using namespace std;`\n",
    "\n",
    "`for(int i = 1; i < 11; i++){\n",
    "    value = i;\n",
    "    cout << value << endl;\n",
    "    }`\n",
    "    \n",
    "or\n",
    "\n",
    "`#include <iostream>\n",
    "using namespace std;`\n",
    "\n",
    "`for(int i = 1; i < 11; i++)\n",
    "    {value = i; cout << value << endl;}`\n",
    "    \n",
    "or\n",
    "\n",
    "`#include <iostream>\n",
    "using namespace std;`\n",
    "\n",
    "`for(int i = 1; i < 11; i++)\n",
    "{value = i; \n",
    "cout << value << endl;}`\n",
    "\n",
    "or many other ways.\n",
    "    \n",
    "In the previous code segment, the braces define statements that are nested in the `for` loop, which we cover later, and the semi-colons indicate the end of a statment. In Python, nesting is indicated by spacing. Most Python editors will attempt to *anticipate* the spacing that is needed. However, if you get errors that state *unexpected indents* exist, you should double-check your spacing. The following code performs the same function as the C++-style loop.\n",
    "\n",
    "<div class=\"alert alert-block alert-info\">\n",
    "<b>Indexing starts at zero:</b> In Python, as is true for most programming languages, any counting or indexing typically starts at 0, as opposed to starting at 1.\n",
    "</div>\n",
    "\n",
    "<div class=\"alert alert-block alert-info\">\n",
    "<b>The <i>range</i> function:</b> The range function takes arguments (<i>start</i>, <i>end</i>, <i>step</i>) and generates a sequnce of integers from <i>start</i> to <i>stop-1</i> in increments of <i>step</i>. If <i>step</i> is omitted, the default is a step size of 1. If <i>start</i> is omitted, the default is to start at 0.\n",
    "</div>\n",
    "\n",
    "[Back to Table of Contents](#Table_of_Contents)<br>"
   ]
  },
  {
   "cell_type": "code",
   "execution_count": 16,
   "metadata": {},
   "outputs": [
    {
     "name": "stdout",
     "output_type": "stream",
     "text": [
      "1\n",
      "2\n",
      "3\n",
      "4\n",
      "5\n",
      "6\n",
      "7\n",
      "8\n",
      "9\n",
      "10\n"
     ]
    }
   ],
   "source": [
    "for i in range(1,11):\n",
    "    value = i\n",
    "    print(value)"
   ]
  },
  {
   "cell_type": "markdown",
   "metadata": {},
   "source": [
    "In the following code block, we do not include the appropriate indentation, and will get an error if we attempt to execute the cell.\n",
    "\n",
    "[Back to Table of Contents](#Table_of_Contents)<br>"
   ]
  },
  {
   "cell_type": "code",
   "execution_count": 17,
   "metadata": {},
   "outputs": [
    {
     "ename": "IndentationError",
     "evalue": "expected an indented block (<ipython-input-17-13677de06eb4>, line 2)",
     "output_type": "error",
     "traceback": [
      "\u001b[1;36m  File \u001b[1;32m\"<ipython-input-17-13677de06eb4>\"\u001b[1;36m, line \u001b[1;32m2\u001b[0m\n\u001b[1;33m    value = i\u001b[0m\n\u001b[1;37m        ^\u001b[0m\n\u001b[1;31mIndentationError\u001b[0m\u001b[1;31m:\u001b[0m expected an indented block\n"
     ]
    }
   ],
   "source": [
    "for i in range(1,11):\n",
    "value = i\n",
    "print(value)"
   ]
  },
  {
   "cell_type": "markdown",
   "metadata": {},
   "source": [
    "### *if* Statements\n",
    "<a id=\"if_Statements\"> </a>\n",
    "\n",
    "One of the most common flow control statements is an *if* statement. Given a Python expression that defines a condition and a clause to be executed if the codition is true, an *if* statement allows us to implement the following logic in the code:\n",
    "\n",
    ">\"If this condition is true, execute the code in the clause.\"\n",
    "\n",
    "The following code block provides an example. Feel free to change the value of `my_var` to verify the two statements work correctly.\n",
    "\n",
    "[Back to Table of Contents](#Table_of_Contents)<br>"
   ]
  },
  {
   "cell_type": "code",
   "execution_count": 18,
   "metadata": {},
   "outputs": [
    {
     "name": "stdout",
     "output_type": "stream",
     "text": [
      "The value of my_var is less than or equal to 4.\n"
     ]
    }
   ],
   "source": [
    "my_var = 4\n",
    "\n",
    "if (my_var <= 4):\n",
    "    print('The value of my_var is less than or equal to 4.')\n",
    "    \n",
    "if (my_var > 5):\n",
    "    print('The value of my_var is greater than 4.')"
   ]
  },
  {
   "cell_type": "markdown",
   "metadata": {},
   "source": [
    "In addition to checking whether or not a single condition is satisfied, the *if* statement may be extended to perform more comparisons where one of many conditions may be true using the `elif` (else if) and `else` statements. The following code blocks demonstrate the use of the *if-elif-else* structure.\n",
    "\n",
    "<div class=\"alert alert-block alert-info\">\n",
    "<b>The <i>else</i> statement:</b> When using an <i>if-elif-else structure</i>, any clauses associated with the else statement are executed whenever none of the conditions in the <i>if</i> and <i>elif</i> checks are satisfied.\n",
    "</div>\n",
    "\n",
    "[Back to Table of Contents](#Table_of_Contents)<br>"
   ]
  },
  {
   "cell_type": "code",
   "execution_count": 19,
   "metadata": {},
   "outputs": [
    {
     "name": "stdout",
     "output_type": "stream",
     "text": [
      "my_var is divisible by 2\n"
     ]
    }
   ],
   "source": [
    "my_var = 10\n",
    "\n",
    "if ((my_var % 2) == 0) and ((my_var % 3) == 0):\n",
    "    print('my_var is divisible by 2 and 3')\n",
    "elif ((my_var % 2) == 0):\n",
    "    print('my_var is divisible by 2')\n",
    "elif ((my_var % 3) == 0):\n",
    "    print('my_var is divisible by 3')\n",
    "else:\n",
    "    print('my_var is not divisible by 2 or 3')"
   ]
  },
  {
   "cell_type": "code",
   "execution_count": 20,
   "metadata": {},
   "outputs": [
    {
     "name": "stdout",
     "output_type": "stream",
     "text": [
      "my_var is divisible by 3\n"
     ]
    }
   ],
   "source": [
    "my_var = 9\n",
    "\n",
    "if ((my_var % 2) == 0) and ((my_var % 3) == 0):\n",
    "    print('my_var is divisible by 2 and 3')\n",
    "elif ((my_var % 2) == 0):\n",
    "    print('my_var is divisible by 2')\n",
    "elif ((my_var % 3) == 0):\n",
    "    print('my_var is divisible by 3')\n",
    "else:\n",
    "    print('my_var is not divisible by 2 or 3')"
   ]
  },
  {
   "cell_type": "code",
   "execution_count": 21,
   "metadata": {},
   "outputs": [
    {
     "name": "stdout",
     "output_type": "stream",
     "text": [
      "my_var is not divisible by 2 or 3\n"
     ]
    }
   ],
   "source": [
    "my_var = 7\n",
    "\n",
    "if ((my_var % 2) == 0) and ((my_var % 3) == 0):\n",
    "    print('my_var is divisible by 2 and 3')\n",
    "elif ((my_var % 2) == 0):\n",
    "    print('my_var is divisible by 2')\n",
    "elif ((my_var % 3) == 0):\n",
    "    print('my_var is divisible by 3')\n",
    "else:\n",
    "    print('my_var is not divisible by 2 or 3')"
   ]
  },
  {
   "cell_type": "markdown",
   "metadata": {},
   "source": [
    "### *while* Loops\n",
    "<a id=\"while_Loops\"> </a>\n",
    "\n",
    "A *while* loop is used whenever we want to repeat a calculation until a condition is met. The following code block shows a simple *while* loop that prints all numbers with a squared value that is less than 200.\n",
    "\n",
    "<div class=\"alert alert-block alert-info\">\n",
    "    <b>The <i>+=</i> and <i>-=</i> operators:</b> The <i>+=</i> and <i>-=</i> operators are shorthand operators that are used to increase and decrease the values of a variable by a value. For example, the code <i>my_var += 5</> is equivalent to <i>my_var = my_var + 5</i>. \n",
    "</div>\n",
    "\n",
    "[Back to Table of Contents](#Table_of_Contents)<br>"
   ]
  },
  {
   "cell_type": "code",
   "execution_count": 22,
   "metadata": {},
   "outputs": [
    {
     "name": "stdout",
     "output_type": "stream",
     "text": [
      "0 squared is less than 500.\n",
      "1 squared is less than 500.\n",
      "2 squared is less than 500.\n",
      "3 squared is less than 500.\n",
      "4 squared is less than 500.\n",
      "5 squared is less than 500.\n",
      "6 squared is less than 500.\n",
      "7 squared is less than 500.\n",
      "8 squared is less than 500.\n",
      "9 squared is less than 500.\n",
      "10 squared is less than 500.\n",
      "11 squared is less than 500.\n",
      "12 squared is less than 500.\n",
      "13 squared is less than 500.\n",
      "14 squared is less than 500.\n"
     ]
    }
   ],
   "source": [
    "my_var = 0\n",
    "\n",
    "while (my_var ** 2 < 200):\n",
    "    print(my_var,'squared is less than 500.')\n",
    "    my_var += 1"
   ]
  },
  {
   "cell_type": "markdown",
   "metadata": {},
   "source": [
    "<div class=\"alert alert-block alert-danger\">\n",
    "    <b>Infinite loops:</b> When using <i>while</i> loops, it is important to make sure that some case will be encountered that does not satisfy the condition specified in the <i>while</i> statement. If not, the loop will not terminate, resulting in an infinite loop.\n",
    "</div>\n",
    "\n",
    "[Back to Table of Contents](#Table_of_Contents)<br>"
   ]
  },
  {
   "cell_type": "markdown",
   "metadata": {},
   "source": [
    "### *break* Statements\n",
    "<a id=\"break_Statements\"> </a>\n",
    "\n",
    "In the previous section, we used a condition to exit from a *while* loop. Another way to force an exit from a *while* loop, or a *for* loop, is to use the `break` statement. Whenever the `break` statement is encountered, the program exits the current loop. The following code block rewrites the previous *while* loop with a `break` statement. Note that without the `break` statement, the loop will run infinitely.\n",
    "\n",
    "[Back to Table of Contents](#Table_of_Contents)<br>"
   ]
  },
  {
   "cell_type": "code",
   "execution_count": 23,
   "metadata": {},
   "outputs": [
    {
     "name": "stdout",
     "output_type": "stream",
     "text": [
      "0 squared is less than 500.\n",
      "1 squared is less than 500.\n",
      "2 squared is less than 500.\n",
      "3 squared is less than 500.\n",
      "4 squared is less than 500.\n",
      "5 squared is less than 500.\n",
      "6 squared is less than 500.\n",
      "7 squared is less than 500.\n",
      "8 squared is less than 500.\n",
      "9 squared is less than 500.\n",
      "10 squared is less than 500.\n",
      "11 squared is less than 500.\n",
      "12 squared is less than 500.\n",
      "13 squared is less than 500.\n",
      "14 squared is less than 500.\n"
     ]
    }
   ],
   "source": [
    "my_var = 0\n",
    "\n",
    "while True:\n",
    "    \n",
    "    if (my_var ** 2 >= 200):\n",
    "        break\n",
    "    \n",
    "    print(my_var,'squared is less than 500.')    \n",
    "    my_var += 1"
   ]
  },
  {
   "cell_type": "markdown",
   "metadata": {},
   "source": [
    "### *continue* statements\n",
    "<a id=\"break_Statements\"> </a>\n",
    "\n",
    "Similar to `break` statements, `continue` statements are used within a loop to control it's behavior. Whenever a `continue` statement is encountered, the program immediately jumps to the start of the loop and reevaluates its condition. The following code block prompts a user to enter a magic word. The program will continue to execute until the user enters the word *Python*.\n",
    "\n",
    "<div class=\"alert alert-block alert-info\">\n",
    "    <b>The <i>input()</i> function:</b> The <i>input()</i> function instructs the program to get input from a user. For example, the code <i>my_var = input()</> instructs the program to get keyboard input from a user and to store the input in a variable named <i>my_var</i>. \n",
    "</div>\n",
    "\n",
    "<div class=\"alert alert-block alert-info\">\n",
    "    <b>The <i>.upper()</i> string method:</b> <i>.upper()</i> is a string method that instructs Python to convert the string to uppercase. There is also a <i>.lower()</i> method that instructs Python to convert the string to lowercase.\n",
    "</div>\n",
    "\n",
    "[Back to Table of Contents](#Table_of_Contents)<br>"
   ]
  },
  {
   "cell_type": "code",
   "execution_count": 24,
   "metadata": {},
   "outputs": [
    {
     "name": "stdout",
     "output_type": "stream",
     "text": [
      "What is the magic word?\n",
      "Java\n",
      "That is not the magic word!\n",
      "\n",
      "What is the magic word?\n",
      "C++\n",
      "That is not the magic word!\n",
      "\n",
      "What is the magic word?\n",
      "Python\n",
      "Access granted.\n"
     ]
    }
   ],
   "source": [
    "while True:\n",
    "    print('What is the magic word?')\n",
    "    magic_word = input()\n",
    "    if magic_word.upper() != 'PYTHON':       \n",
    "        print('That is not the magic word!\\n')\n",
    "        continue              \n",
    "    break                 \n",
    "print('Access granted.')"
   ]
  },
  {
   "cell_type": "markdown",
   "metadata": {},
   "source": [
    "### *for* Loops\n",
    "<a id=\"break_Statements\"> </a>\n",
    "\n",
    "The final loop type that we discuss is the *for* loop. A `for` loop is used whenever we want to perform a portion of code for a fixed number of times. We saw an example of a `for` loop earlier when discussing the importance of spacing (**insert link here**). The following code block shows a `for` loop that calculates the sum of the squared values for the integers ranging from 0 to 10.\n",
    "\n",
    "[Back to Table of Contents](#Table_of_Contents)<br>"
   ]
  },
  {
   "cell_type": "code",
   "execution_count": 25,
   "metadata": {},
   "outputs": [
    {
     "name": "stdout",
     "output_type": "stream",
     "text": [
      "The sum of squares is 385\n"
     ]
    }
   ],
   "source": [
    "sum_of_squares = 0\n",
    "for i in range(11):\n",
    "    sum_of_squares += i**2\n",
    "print('The sum of squares is',sum_of_squares)"
   ]
  },
  {
   "cell_type": "markdown",
   "metadata": {},
   "source": [
    "## Data Structures\n",
    "<a id=\"Data_Structures\"> </a>\n",
    "\n",
    "The following sections will introduce you to several data structures that are built into the Python base. Specifically, we will look at lists, dictionaries, tuples, and sets.\n",
    "\n",
    "[Back to Table of Contents](#Table_of_Contents)<br>"
   ]
  },
  {
   "cell_type": "markdown",
   "metadata": {},
   "source": [
    "### Lists\n",
    "<a id=\"Lists\"> </a>\n",
    "\n",
    "Lists are a versatile Python data structure that can be initialized as empty, with sequences, or with comma-separated initialization values. Lists can be appended to our deleted from in loops and do not require that all values be of the same type. The following code blocks provide several examples of list initialization.\n",
    "\n",
    "[Back to Table of Contents](#Table_of_Contents)<br>"
   ]
  },
  {
   "cell_type": "code",
   "execution_count": 26,
   "metadata": {},
   "outputs": [
    {
     "name": "stdout",
     "output_type": "stream",
     "text": [
      "[1, 2, 3, 4, 5, 6, 7, 8, 9, 10]\n"
     ]
    }
   ],
   "source": [
    "list1 = list(range(1,11))\n",
    "print(list1)"
   ]
  },
  {
   "cell_type": "code",
   "execution_count": 27,
   "metadata": {},
   "outputs": [
    {
     "name": "stdout",
     "output_type": "stream",
     "text": [
      "[0, 1, 2, 3, 4, 5, 6, 7, 8]\n"
     ]
    }
   ],
   "source": [
    "list1 = [0, 1, 2, 3, 4, 5, 6, 7, 8]\n",
    "print(list1)"
   ]
  },
  {
   "cell_type": "code",
   "execution_count": 28,
   "metadata": {},
   "outputs": [
    {
     "name": "stdout",
     "output_type": "stream",
     "text": [
      "[20, 21, 22, 23, 24, 25, 26, 27, 28, 29, 30]\n"
     ]
    }
   ],
   "source": [
    "list1 = [] # Creates an empty list\n",
    "for i in range(20,31):\n",
    "    list1.append(i)\n",
    "\n",
    "print(list1)"
   ]
  },
  {
   "cell_type": "markdown",
   "metadata": {},
   "source": [
    "Lists can be multi-dimensional, but it is generally better to use other storage objects such as dictionaries or Pandas dataframes (both covered later in this notebook). For completeness, the following code blocks show two method to create a simple two-dimensional list.\n",
    "\n",
    "[Back to Table of Contents](#Table_of_Contents)<br>"
   ]
  },
  {
   "cell_type": "code",
   "execution_count": 29,
   "metadata": {},
   "outputs": [
    {
     "name": "stdout",
     "output_type": "stream",
     "text": [
      "[[1, 2], [3, 4], [5, 6], [7, 8]]\n"
     ]
    }
   ],
   "source": [
    "list1 = [[1,2],[3,4],[5,6],[7,8]]\n",
    "print(list1)"
   ]
  },
  {
   "cell_type": "code",
   "execution_count": 30,
   "metadata": {},
   "outputs": [
    {
     "name": "stdout",
     "output_type": "stream",
     "text": [
      "[[1, 2], [3, 4], [5, 6], [7, 8]]\n"
     ]
    }
   ],
   "source": [
    "list1 = []\n",
    "list1.append([1,2])\n",
    "list1.append([3,4])\n",
    "list1.append([5,6])\n",
    "list1.append([7,8])\n",
    "print(list1)"
   ]
  },
  {
   "cell_type": "markdown",
   "metadata": {},
   "source": [
    "#### List comprehensions\n",
    "<a id=\"List_Comprehensions\"> </a>\n",
    "\n",
    "In mathematics, it is common to see sets described as follows:\n",
    "$$ S = \\{x^{2}:x\\in 1, \\ldots, 10\\}.$$\n",
    "This notation defines a set $S$ that contains the squares of the integers $1 - 10$. In Python, we can use similar syntax to define the set as a list. The following code block demonstrates such syntax, which is referred to as `list comprehension`. The `del()` function deletes the list.\n",
    "\n",
    "[Back to Table of Contents](#Table_of_Contents)<br>"
   ]
  },
  {
   "cell_type": "code",
   "execution_count": 31,
   "metadata": {},
   "outputs": [
    {
     "name": "stdout",
     "output_type": "stream",
     "text": [
      "[1, 4, 9, 16, 25, 36, 49, 64, 81, 100]\n"
     ]
    }
   ],
   "source": [
    "S = [x**2 for x in range(1,11)]\n",
    "print(S)\n",
    "del(S)"
   ]
  },
  {
   "cell_type": "markdown",
   "metadata": {},
   "source": [
    "#### Accessing List Elements\n",
    "<a id=\"Access_List_Elements\"> </a>\n",
    "\n",
    "A key thing to note when considering how to access elements of objects in Python is that, like most other programming languages, numbering in Python starts at 0. For example, in the list `[1,2,3,4]`, the value 1 is in index location 0 and the value 3 is in index location 2. \n",
    "\n",
    "When indexing a list named `mylist`, the syntax `mylist[x]` retrieves the element of the list that is in index location `x`. Also, you can use negative numbers to index from the end of the list. For example, `mylist[-1]` retrieves the last element of the list and `mylist[-2]` retrieves the second to last element of the list.\n",
    "\n",
    "The following code block demonstrates how we use this information to select items from a single-dimension list.\n",
    "\n",
    "[Back to Table of Contents](#Table_of_Contents)<br>"
   ]
  },
  {
   "cell_type": "code",
   "execution_count": 32,
   "metadata": {},
   "outputs": [
    {
     "name": "stdout",
     "output_type": "stream",
     "text": [
      "The first element in the list is 1000\n",
      "The second element in the list is boy\n",
      "The second to last element in the list is 6\n",
      "The last element in the list is cat\n"
     ]
    }
   ],
   "source": [
    "my_list = [1000, 'boy', 3, 6,  'cat']\n",
    "\n",
    "print('The first element in the list is', my_list[0])\n",
    "print('The second element in the list is', my_list[1])\n",
    "print('The second to last element in the list is', my_list[-2])\n",
    "print('The last element in the list is', my_list[-1])"
   ]
  },
  {
   "cell_type": "markdown",
   "metadata": {},
   "source": [
    "Multi-dimensional lists are indexed in a similar fashion. However, keeping things straight can become quite challenging when working in more than two dimensions. The following code block illustrates how to index elements in a list with two dimensions.\n",
    "\n",
    "[Back to Table of Contents](#Table_of_Contents)<br>"
   ]
  },
  {
   "cell_type": "code",
   "execution_count": 33,
   "metadata": {},
   "outputs": [
    {
     "name": "stdout",
     "output_type": "stream",
     "text": [
      "The first row of mylist is [1, 2, 3] \n",
      "\n",
      "The last row of mylist is [7, 8, 9] \n",
      "\n",
      "The first element of the last row of mylist is 7 \n",
      "\n"
     ]
    }
   ],
   "source": [
    "my_list = [[1,2,3],[4,5,6],[7,8,9]]\n",
    "\n",
    "print('The first row of mylist is', my_list[0], '\\n')\n",
    "\n",
    "print('The last row of mylist is', my_list[-1], '\\n')\n",
    "\n",
    "print('The first element of the last row of mylist is', my_list[-1][0], '\\n')"
   ]
  },
  {
   "cell_type": "markdown",
   "metadata": {},
   "source": [
    "Besides accessing individual items stored in lists, you can also access *slices* of items. Similar to the `range` function that we saw earlier, Python listing slicing allows you to define a *start index*, a *stop index*, and a *step size*. Also similar to the `range` function, a list slice will not include the item specified by the *stop* index. Negative values for the *step size* will result in the slice being iterated over in reverse order. The following code block illstrates list slicing.\n",
    "\n",
    "<div class=\"alert alert-block alert-info\">\n",
    "    <b>Multi-line statements with \"\\\":</b> You can break a long statement into multiple line using \"\\\". Essentially, when we use a \"\\\", we are telling Python that the current expression is continued on the next line. \n",
    "</div>\n",
    "\n",
    "[Back to Table of Contents](#Table_of_Contents)<br>"
   ]
  },
  {
   "cell_type": "code",
   "execution_count": 34,
   "metadata": {},
   "outputs": [
    {
     "name": "stdout",
     "output_type": "stream",
     "text": [
      "mylist is [0, 1, 2, 3, 4, 5, 6, 7, 8, 9, 10, 11, 12, 13, 14, 15, 16, 17, 18, 19, 20] \n",
      "\n",
      "Slicing mylist in steps of 2 yields [0, 2, 4, 6, 8, 10, 12, 14, 16, 18, 20] \n",
      "\n",
      "Slicing mylist starting at index position 5in steps of 2 yields [5, 7, 9, 11, 13, 15, 17, 19] \n",
      "\n",
      "Slicing mylist ending at index position 4 insteps of 2 yields [0, 2] \n",
      "\n",
      "Slicing mylist starting at index position 5 andending at index position 9 in steps of 2 yields [5, 7] \n",
      "\n",
      "Slicing mylist in reverse starting at index position 5 andending at index position 9 in steps of 2 yields [9, 8, 7, 6] \n",
      "\n",
      "Slicing mylist in reverse starting at index position 5 andending at index position 9 in steps of 2 yields [9, 7] \n",
      "\n"
     ]
    }
   ],
   "source": [
    "my_list = [i for i in range(21)]\n",
    "print('mylist is', my_list, '\\n')\n",
    "\n",
    "print('Slicing mylist in steps of 2 yields', my_list[::2], '\\n')\n",
    "\n",
    "print('Slicing mylist starting at index position 5\\\n",
    "in steps of 2 yields', my_list[5::2], '\\n')\n",
    "\n",
    "print('Slicing mylist ending at index position 4 in\\\n",
    "steps of 2 yields', my_list[:4:2], '\\n')\n",
    "\n",
    "print('Slicing mylist starting at index position 5 and\\\n",
    "ending at index position 9 in steps of 2 yields', my_list[5:9:2], '\\n')\n",
    "\n",
    "print('Slicing mylist in reverse starting at index position 5 and\\\n",
    "ending at index position 9 in steps of 2 yields', my_list[9:5:-1], '\\n')\n",
    "\n",
    "print('Slicing mylist in reverse starting at index position 5 and\\\n",
    "ending at index position 9 in steps of 2 yields', my_list[9:5:-2], '\\n')"
   ]
  },
  {
   "cell_type": "markdown",
   "metadata": {},
   "source": [
    "#### Iterating Over Lists\n",
    "<a id=\"Iterating_Over_Lists\"> </a>\n",
    "\n",
    "Oftentimes, an application will need to iterate over the items of a list (or other iterable object), performing some operation for each entry. The following code block iterates over a list of names to demonstrate how such iteration can be done.\n",
    "\n",
    "[Back to Table of Contents](#Table_of_Contents)<br>"
   ]
  },
  {
   "cell_type": "code",
   "execution_count": 35,
   "metadata": {},
   "outputs": [
    {
     "name": "stdout",
     "output_type": "stream",
     "text": [
      "Alice\n",
      "Bob\n",
      "Casey\n",
      "Doug\n",
      "Eva\n",
      "Frank\n"
     ]
    }
   ],
   "source": [
    "name_list = ['Alice', 'Bob', 'Casey', 'Doug', 'Eva', 'Frank']\n",
    "\n",
    "for name in name_list:\n",
    "    print(name)"
   ]
  },
  {
   "cell_type": "markdown",
   "metadata": {},
   "source": [
    "Oftentimes, users may wish to return the index of the item in the list along with the item itself. In other languages, performing such a task typically meant keeping track of an index value and using the current index value to look up items in the object (in this case a list). This is not necessary in python due to the `enumerate` function. The following code block shows two approaches that are motivated by practices commonly observed in other programming languages and the *pythonic* approach for this task. \n",
    "\n",
    "<div class=\"alert alert-block alert-info\">\n",
    "    <b>The len() function:</b> The len() function returns the number of items in an iterable provided as an argument.\n",
    "</div>\n",
    "\n",
    "[Back to Table of Contents](#Table_of_Contents)<br>"
   ]
  },
  {
   "cell_type": "code",
   "execution_count": 36,
   "metadata": {},
   "outputs": [
    {
     "name": "stdout",
     "output_type": "stream",
     "text": [
      "Using range(len(name_list)) :-(\n",
      "The name at index 0 is Alice\n",
      "The name at index 1 is Bob\n",
      "The name at index 2 is Casey\n",
      "The name at index 3 is Doug\n",
      "The name at index 4 is Eva\n",
      "The name at index 5 is Frank\n",
      "\n",
      "\n",
      "Tracking index :-(\n",
      "The name at index 0 is Alice\n",
      "The name at index 1 is Bob\n",
      "The name at index 2 is Casey\n",
      "The name at index 3 is Doug\n",
      "The name at index 4 is Eva\n",
      "The name at index 5 is Frank\n",
      "\n",
      "\n",
      "Using enumerate :-)\n",
      "The name at index 0 is Alice\n",
      "The name at index 1 is Bob\n",
      "The name at index 2 is Casey\n",
      "The name at index 3 is Doug\n",
      "The name at index 4 is Eva\n",
      "The name at index 5 is Frank\n"
     ]
    }
   ],
   "source": [
    "name_list = ['Alice', 'Bob', 'Casey', 'Doug', 'Eva', 'Frank']\n",
    "\n",
    "print(\"Using range(len(name_list)) :-(\")\n",
    "for i in range(len(name_list)):\n",
    "    print('The name at index', i, 'is', name_list[i])\n",
    "    \n",
    "print(\"\\n\\nTracking index :-(\")\n",
    "index = 0\n",
    "for i in name_list:\n",
    "    print('The name at index', index, 'is', name_list[index])\n",
    "    index += 1\n",
    "\n",
    "print(\"\\n\\nUsing enumerate :-)\")\n",
    "for index, name in enumerate(name_list):\n",
    "    print('The name at index', index, 'is', name)"
   ]
  },
  {
   "cell_type": "markdown",
   "metadata": {},
   "source": [
    "You can provide an additional argument to enumerate if you want to start the indexing at a value other than zero.\n",
    "\n",
    "[Back to Table of Contents](#Table_of_Contents)<br>"
   ]
  },
  {
   "cell_type": "code",
   "execution_count": 37,
   "metadata": {},
   "outputs": [
    {
     "name": "stdout",
     "output_type": "stream",
     "text": [
      "The name at index 1 is Alice\n",
      "The name at index 2 is Bob\n",
      "The name at index 3 is Casey\n",
      "The name at index 4 is Doug\n",
      "The name at index 5 is Eva\n",
      "The name at index 6 is Frank\n"
     ]
    }
   ],
   "source": [
    "name_list = ['Alice', 'Bob', 'Casey', 'Doug', 'Eva', 'Frank']\n",
    "\n",
    "for index, name in enumerate(name_list, 1):\n",
    "    print('The name at index', index, 'is', name)"
   ]
  },
  {
   "cell_type": "markdown",
   "metadata": {},
   "source": [
    "### Dictionaries\n",
    "<a id=\"Dictionaries\"> </a>\n",
    "\n",
    "Like lists, dictionaries are a versatile Python data structures that can easily be changed. With respect to the differences between lists and dictionaries: 1) lists are ordered sets of objects, whereas dictionaries are unordered sets, 2) items in dictionaries are accessed via keys and not via their position, and 3) the values of a dictionary can be any Python data type. So dictionaries are unordered key-value pairs. \n",
    "\n",
    "The following code block provides an example that is adapted from https://automatetheboringstuff.com/chapter5/ (accessed 1/9/2018) that clearly demonstrates the key differences between lists and dictionaries. \n",
    "\n",
    "[Back to Table of Contents](#Table_of_Contents)<br>"
   ]
  },
  {
   "cell_type": "code",
   "execution_count": 38,
   "metadata": {},
   "outputs": [
    {
     "name": "stdout",
     "output_type": "stream",
     "text": [
      "The two lists are different.\n",
      "\n",
      "The two dictionaries are the same.\n",
      "\n"
     ]
    }
   ],
   "source": [
    "list1 = ['cats', 'dogs', 'moose']\n",
    "list2 = ['dogs', 'moose', 'cats']\n",
    "if (list1 == list2):\n",
    "    print(\"The two lists are the same.\\n\")\n",
    "else:\n",
    "    print(\"The two lists are different.\\n\")\n",
    "\n",
    "dict1 = {'name': 'Zophie', 'species': 'cat', 'age': '8'}\n",
    "dict2 = {'species': 'cat', 'age': '8', 'name': 'Zophie'}\n",
    "if (dict1 == dict2):\n",
    "    print(\"The two dictionaries are the same.\\n\")\n",
    "else:\n",
    "    print(\"The two dictionaries are different.\\n\")"
   ]
  },
  {
   "cell_type": "markdown",
   "metadata": {},
   "source": [
    "The important thing to note in the previous example is that the two lists are comprised of the same items, just in a different order, and the two dictionaries are also comprised of the same key-value pairs, just in different orders. However, Python interprets the lists as being different and the dictionaries as being equal. This clearly demonstrates the ordering differences between the two structures.\n",
    "\n",
    "The following code block shows how to access elements of a dictionary by key.\n",
    "\n",
    "[Back to Table of Contents](#Table_of_Contents)<br>"
   ]
  },
  {
   "cell_type": "code",
   "execution_count": 39,
   "metadata": {},
   "outputs": [
    {
     "data": {
      "text/plain": [
       "'Zophie'"
      ]
     },
     "execution_count": 39,
     "metadata": {},
     "output_type": "execute_result"
    }
   ],
   "source": [
    "dict1['name']"
   ]
  },
  {
   "cell_type": "markdown",
   "metadata": {},
   "source": [
    "Dictionaries have three methods that allow for easy iteration over a dictionary, i.e., the `keys`, `values`, and `items` methods. The following code block demonstrates these methods.\n",
    "\n",
    "[Back to Table of Contents](#Table_of_Contents)<br>"
   ]
  },
  {
   "cell_type": "code",
   "execution_count": 40,
   "metadata": {},
   "outputs": [
    {
     "name": "stdout",
     "output_type": "stream",
     "text": [
      "The keys in dict1 are:\n",
      "name\n",
      "species\n",
      "age\n",
      "\n",
      "The values in dict1 are:\n",
      "Zophie\n",
      "cat\n",
      "8\n",
      "\n",
      "The items (key-value pairs) in dict1 are:\n",
      "('name', 'Zophie')\n",
      "('species', 'cat')\n",
      "('age', '8')\n"
     ]
    }
   ],
   "source": [
    "print(\"The keys in dict1 are:\")\n",
    "for key in dict1.keys():\n",
    "    print(key)\n",
    "    \n",
    "print(\"\\nThe values in dict1 are:\")\n",
    "for value in dict1.values():\n",
    "    print(value)\n",
    "    \n",
    "print(\"\\nThe items (key-value pairs) in dict1 are:\")\n",
    "for item in dict1.items():\n",
    "    print(item)"
   ]
  },
  {
   "cell_type": "markdown",
   "metadata": {},
   "source": [
    "You can also use these methods with the `in` operator to easily search for keys and values in a dictionary as shown below.\n",
    "\n",
    "**Note that the `\\\"` statements are needed to print the quotation marks in the printed string. If they are not printed, Python will interpret the quotes as the end of a string and produce an error.\n",
    "\n",
    "[Back to Table of Contents](#Table_of_Contents)<br>"
   ]
  },
  {
   "cell_type": "code",
   "execution_count": 41,
   "metadata": {},
   "outputs": [
    {
     "name": "stdout",
     "output_type": "stream",
     "text": [
      "Is the key \"name\" in dict1? True\n",
      "Is the key \"cat\" in dict1? False\n",
      "Is the value \"cat\" in dict1? True\n"
     ]
    }
   ],
   "source": [
    "print('Is the key \\\"name\\\" in dict1?','name' in dict1.keys())\n",
    "print('Is the key \\\"cat\\\" in dict1?','cat' in dict1.keys())\n",
    "print('Is the value \\\"cat\\\" in dict1?','cat' in dict1.values())"
   ]
  },
  {
   "cell_type": "markdown",
   "metadata": {},
   "source": [
    "### Tuples\n",
    "<a id=\"Tuples\"> </a>\n",
    "\n",
    "The tuple data structure is similar to a list, with two main exceptions:\n",
    "1. We use parentheses instead of brackets to create a tuple, and\n",
    "2. tuples are immutable, meaning that we cannot **directly** overwrite the values composing a tuple after creation.\n",
    "\n",
    "The following code block creates a tuple with five values.\n",
    "\n",
    "[Back to Table of Contents](#Table_of_Contents)<br>"
   ]
  },
  {
   "cell_type": "code",
   "execution_count": 42,
   "metadata": {},
   "outputs": [
    {
     "name": "stdout",
     "output_type": "stream",
     "text": [
      "my_tuple is ('a', 'b', 3, 'd', '5')\n"
     ]
    }
   ],
   "source": [
    "my_tuple = ('a', 'b', 3, 'd', '5')\n",
    "print('my_tuple is', my_tuple)"
   ]
  },
  {
   "cell_type": "markdown",
   "metadata": {},
   "source": [
    "We can access elements of a tuple using the same indexing approach as we used for lists.\n",
    "\n",
    "[Back to Table of Contents](#Table_of_Contents)<br>"
   ]
  },
  {
   "cell_type": "code",
   "execution_count": 43,
   "metadata": {},
   "outputs": [
    {
     "name": "stdout",
     "output_type": "stream",
     "text": [
      "The second element of my_tuple is b\n"
     ]
    }
   ],
   "source": [
    "print('The second element of my_tuple is', my_tuple[1])"
   ]
  },
  {
   "cell_type": "markdown",
   "metadata": {},
   "source": [
    "Note what happens if we try to change one of the values in the tuple.\n",
    "\n",
    "[Back to Table of Contents](#Table_of_Contents)<br>"
   ]
  },
  {
   "cell_type": "code",
   "execution_count": 44,
   "metadata": {},
   "outputs": [
    {
     "ename": "TypeError",
     "evalue": "'tuple' object does not support item assignment",
     "output_type": "error",
     "traceback": [
      "\u001b[1;31m---------------------------------------------------------------------------\u001b[0m",
      "\u001b[1;31mTypeError\u001b[0m                                 Traceback (most recent call last)",
      "\u001b[1;32m<ipython-input-44-3c9ddf19d6fd>\u001b[0m in \u001b[0;36m<module>\u001b[1;34m\u001b[0m\n\u001b[1;32m----> 1\u001b[1;33m \u001b[0mmy_tuple\u001b[0m\u001b[1;33m[\u001b[0m\u001b[1;36m2\u001b[0m\u001b[1;33m]\u001b[0m \u001b[1;33m=\u001b[0m \u001b[1;34m'c'\u001b[0m\u001b[1;33m\u001b[0m\u001b[1;33m\u001b[0m\u001b[0m\n\u001b[0m",
      "\u001b[1;31mTypeError\u001b[0m: 'tuple' object does not support item assignment"
     ]
    }
   ],
   "source": [
    "my_tuple[2] = 'c'"
   ]
  },
  {
   "cell_type": "markdown",
   "metadata": {},
   "source": [
    "Although we cannot change values of a tuple directly, we can change them by converting the tuple to a list, changing the list values, and then converting the list back to a tuple. This is demonstrated in the following code block.\n",
    "\n",
    "[Back to Table of Contents](#Table_of_Contents)<br>"
   ]
  },
  {
   "cell_type": "code",
   "execution_count": 45,
   "metadata": {},
   "outputs": [
    {
     "name": "stdout",
     "output_type": "stream",
     "text": [
      "my_tuple is ('a', 'b', 3, 'd', '5') \n",
      "\n",
      "my_tuple is ('a', 'b', 'c', 'd', '5')\n"
     ]
    }
   ],
   "source": [
    "my_tuple = ('a', 'b', 3, 'd', '5')\n",
    "print('my_tuple is', my_tuple,'\\n')\n",
    "\n",
    "my_tuple = list(my_tuple)\n",
    "my_tuple[2] = 'c'\n",
    "my_tuple = tuple(my_tuple)\n",
    "print('my_tuple is', my_tuple)"
   ]
  },
  {
   "cell_type": "markdown",
   "metadata": {},
   "source": [
    "### Sets\n",
    "<a id=\"Tuples\"> </a>\n",
    "\n",
    "A set is a Python data structure that contains a collection of unique and immutable objects. Sets are useful when we are trying to determine the unique values in a larger data structure. The following code block demonstrates this use of a set. Note that the initial list has multiple duplicate values. However, the set contains only one copy of each unique value.\n",
    "\n",
    "[Back to Table of Contents](#Table_of_Contents)<br>"
   ]
  },
  {
   "cell_type": "code",
   "execution_count": 46,
   "metadata": {},
   "outputs": [
    {
     "name": "stdout",
     "output_type": "stream",
     "text": [
      "my_list is ['a', 'b', 'a', 'b', 1, 2, 3, 2, 3, 3, 1000] \n",
      "\n",
      "Using my_list to construct a set yields {1, 'b', 3, 2, 'a', 1000} \n",
      "\n"
     ]
    }
   ],
   "source": [
    "my_list = ['a', 'b', 'a', 'b', 1, 2, 3, 2, 3, 3, 1000]\n",
    "print('my_list is', my_list,'\\n')\n",
    "\n",
    "print('Using my_list to construct a set yields', set(my_list),'\\n')"
   ]
  },
  {
   "cell_type": "markdown",
   "metadata": {},
   "source": [
    "We cannot access individual items in a set as we did with Python lists and tuples. However, we can iterate over them using loops as is shown in the following code block.\n",
    "\n",
    "[Back to Table of Contents](#Table_of_Contents)<br>"
   ]
  },
  {
   "cell_type": "code",
   "execution_count": 47,
   "metadata": {},
   "outputs": [
    {
     "name": "stdout",
     "output_type": "stream",
     "text": [
      "1 is in the list\n",
      "b is in the list\n",
      "3 is in the list\n",
      "2 is in the list\n",
      "a is in the list\n",
      "1000 is in the list\n"
     ]
    }
   ],
   "source": [
    "my_list = ['a', 'b', 'a', 'b', 1, 2, 3, 2, 3, 3, 1000]\n",
    "\n",
    "for item in set(my_list):\n",
    "    print(item,'is in the list')"
   ]
  },
  {
   "cell_type": "markdown",
   "metadata": {},
   "source": [
    "### String formatting\n",
    "<a id=\"String_formatting\"> </a>\n",
    "\n",
    "Although several methods for string formatting are possible in Python, the use of `f-strings` are very simple and flexible. `f-strings` allow users to easily mix variables and static text via placeholders. The following code block demonstrates the use of `f-strings`. Specifically, the code block defines two python variables, one a string and the other an integer. The values of these variables are inserted into two strings according using placeholders indicated by brackets `{}`. The escape sequence `\\n` starts a new line. **Note: The `f` placed before the string is necessary. An error will be raised if the charater is omitted.**\n",
    "\n",
    "[Back to Table of Contents](#Table_of_Contents)<br>"
   ]
  },
  {
   "cell_type": "code",
   "execution_count": 48,
   "metadata": {},
   "outputs": [
    {
     "name": "stdout",
     "output_type": "stream",
     "text": [
      "My first variable is arg1 and my second is 1.\n",
      "\n",
      "My second variable is 1 and my first is arg1.\n"
     ]
    }
   ],
   "source": [
    "first_variable = 'arg1'\n",
    "second_variable = 1\n",
    "\n",
    "mystring = f'My first variable is {first_variable} and my second is {second_variable}.\\n'\n",
    "print(mystring)\n",
    "\n",
    "mystring = f'My second variable is {second_variable} and my first is {first_variable}.'\n",
    "print(mystring)\n",
    "\n",
    "del(mystring)"
   ]
  },
  {
   "cell_type": "markdown",
   "metadata": {},
   "source": [
    "### Error Handling\n",
    "<a id=\"Error_Handling\"> </a>\n",
    "\n",
    "Examples of errors that may occur are showcased earlier in this notebook. In practice, developers use error handling mechansims to ensure that their programs do not fail when errors are encountered, which is very common when we use data or input defined by others. Although flow control can be used to try and advert errors, the `try/except` block is designed for the purpose of error handling. The following code block shows how a `try/except` block can be used to handle errors encountered when dividing the contents of two lists.\n",
    "\n",
    "<div class=\"alert alert-block alert-info\">\n",
    "    <b>The zip() function:</b> The zip() function returns a zip object, which is an iterator of tuples where the first item in each passed iterables, e.g., a list, is paired together, and then the second item in each passed iterator are paired together etc. If the passed iterators have different lengths, the iterator with the least items decides the length of the new iterator.\n",
    "</div>\n",
    "\n",
    "[Back to Table of Contents](#Table_of_Contents)<br>"
   ]
  },
  {
   "cell_type": "code",
   "execution_count": 49,
   "metadata": {},
   "outputs": [
    {
     "name": "stdout",
     "output_type": "stream",
     "text": [
      "1/2 = 0.5\n",
      "2.0/2 = 1.0\n",
      "2.3/2.6 = 0.8846153846153845\n",
      "Cannot compute cat/90\n",
      "Cannot compute 20/0\n"
     ]
    }
   ],
   "source": [
    "numerator_list = [1, 2.0, 2.3, 'cat', 20]\n",
    "denominator_list = [2, 2, 2.6, 90, 0]\n",
    "\n",
    "for numerator, denominator in zip(numerator_list, denominator_list):\n",
    "    try:\n",
    "        print(f'{numerator}/{denominator} = {numerator/denominator}')\n",
    "    except:\n",
    "        print(f'Cannot compute {numerator}/{denominator}')"
   ]
  },
  {
   "cell_type": "markdown",
   "metadata": {},
   "source": [
    "The following code block shows how you can get the name of the exception that triggers the `except` block to run.\n",
    "\n",
    "[Back to Table of Contents](#Table_of_Contents)<br>"
   ]
  },
  {
   "cell_type": "code",
   "execution_count": 50,
   "metadata": {},
   "outputs": [
    {
     "name": "stdout",
     "output_type": "stream",
     "text": [
      "1/2 = 0.5\n",
      "2.0/2 = 1.0\n",
      "2.3/2.6 = 0.8846153846153845\n",
      "TypeError -> Cannot compute cat/90\n",
      "ZeroDivisionError -> Cannot compute 20/0\n"
     ]
    }
   ],
   "source": [
    "numerator_list = [1, 2.0, 2.3, 'cat', 20]\n",
    "denominator_list = [2, 2, 2.6, 90, 0]\n",
    "\n",
    "for numerator, denominator in zip(numerator_list, denominator_list):\n",
    "    try:\n",
    "        print(f'{numerator}/{denominator} = {numerator/denominator}')\n",
    "    except Exception as e:\n",
    "        print(f'{type(e).__name__} -> Cannot compute {numerator}/{denominator}')"
   ]
  },
  {
   "cell_type": "markdown",
   "metadata": {},
   "source": [
    "This concludes this notebook on Python basics.\n",
    "\n",
    "[Back to Table of Contents](#Table_of_Contents)<br>"
   ]
  }
 ],
 "metadata": {
  "kernelspec": {
   "display_name": "Python 3",
   "language": "python",
   "name": "python3"
  },
  "language_info": {
   "codemirror_mode": {
    "name": "ipython",
    "version": 3
   },
   "file_extension": ".py",
   "mimetype": "text/x-python",
   "name": "python",
   "nbconvert_exporter": "python",
   "pygments_lexer": "ipython3",
   "version": "3.7.4"
  }
 },
 "nbformat": 4,
 "nbformat_minor": 2
}

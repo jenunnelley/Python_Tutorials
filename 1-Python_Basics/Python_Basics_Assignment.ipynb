{
 "cells": [
  {
   "cell_type": "markdown",
   "metadata": {},
   "source": [
    "# Python Basics Assignment"
   ]
  },
  {
   "cell_type": "markdown",
   "metadata": {},
   "source": [
    "### Task 1\n",
    "\n",
    "In the following code block, use Python's help functionality to access documentation on the `len` method."
   ]
  },
  {
   "cell_type": "code",
   "execution_count": 1,
   "metadata": {},
   "outputs": [],
   "source": [
    "# Code here"
   ]
  },
  {
   "cell_type": "markdown",
   "metadata": {},
   "source": [
    "### Task 2\n",
    "\n",
    "In the following code block, calculate the value of\n",
    "\n",
    "$$ \\frac{(3 + 5)^{2}}{3^{3}}.$$"
   ]
  },
  {
   "cell_type": "code",
   "execution_count": 2,
   "metadata": {},
   "outputs": [],
   "source": [
    "# Code here"
   ]
  },
  {
   "cell_type": "markdown",
   "metadata": {},
   "source": [
    "### Task 3\n",
    "\n",
    "In mathematics, the Fibonacci numbers, commonly denoted $F_{n}$ form a sequence, called the Fibonacci sequence, such that each number is the sum of the two preceding ones, starting from 0 and 1. That is,\n",
    "\n",
    "$$ F_{0}=0, F_{1}=1,mbox{ and } F_{n}=F_{n-1}+F_{n-2},\mbox{ for }n > 1.$$\n",
    "\n",
    "In the following code block, use a `for` loop to construct a list that includes $F_{0} - F_{10}$. Use the print function to show the final list."
   ]
  },
  {
   "cell_type": "code",
   "execution_count": 3,
   "metadata": {},
   "outputs": [],
   "source": [
    "# Code here"
   ]
  },
  {
   "cell_type": "markdown",
   "metadata": {},
   "source": [
    "### Task 4\n",
    "\n",
    "The following code block defines a list object named `my_numbers` that contains 20 floating point vlaues. Add print statements that return:\n",
    "1. the first four elements, i.e., elements 0-3,\n",
    "2. the last six elements, i.e., elements 14-19, and\n",
    "3. all elements starting at 0 and incrementing in steps of 5."
   ]
  },
  {
   "cell_type": "code",
   "execution_count": 4,
   "metadata": {},
   "outputs": [],
   "source": [
    "my_numbers = [5.84,  4.11,  1.96,  1.73, 1.44, -3.50, -9.08, \n",
    "              -9.46, 1.18,  1.59,  5.11,  9.96, 5.82,  1.56,  \n",
    "              5.11, -1.83, -1.63,  3.52,  2.36, -8.64]\n",
    "\n",
    "# Code here"
   ]
  },
  {
   "cell_type": "markdown",
   "metadata": {},
   "source": [
    "### Task 5\n",
    "\n",
    "The following code block defines a nested dictionary object named `my_dict` that contains the age and height of three individuals (Alice, Bob, and Eve). Write a for loop that prints the age and height for each individual using the format: **NAME** *is X years old and Y inches tall*."
   ]
  },
  {
   "cell_type": "code",
   "execution_count": 5,
   "metadata": {},
   "outputs": [],
   "source": [
    "my_dict = {'Alice':{'Age': 32, 'Height (in)': 64},\n",
    "           'Bob': {'Age': 40, 'Height (in)': 70},\n",
    "           'Eve': {'Age': 20, 'Height (in)': 68}}\n",
    "\n",
    "# Code here"
   ]
  },
  {
   "cell_type": "markdown",
   "metadata": {},
   "source": [
    "### Task 6\n",
    "\n",
    "In the following code block, use a `while` loop to print the *positive integers* ($i.e., 1, 2, 3, \\ldots$) $n$ that satisfy the inequality $2^{n} - n^{2} < 100$. Specifically, the statement *2^n - n^2 = value < 100* should be printed for each value that satisfies the inequality, where $n$ is the current integer being considered and value denotes the value of the expression $2^{n} - n^{2}$ evaluated with the current integer $n$."
   ]
  },
  {
   "cell_type": "code",
   "execution_count": 6,
   "metadata": {},
   "outputs": [],
   "source": [
    "# Code here"
   ]
  }
 ],
 "metadata": {
  "kernelspec": {
   "display_name": "Python 3",
   "language": "python",
   "name": "python3"
  },
  "language_info": {
   "codemirror_mode": {
    "name": "ipython",
    "version": 3
   },
   "file_extension": ".py",
   "mimetype": "text/x-python",
   "name": "python",
   "nbconvert_exporter": "python",
   "pygments_lexer": "ipython3",
   "version": "3.7.1"
  }
 },
 "nbformat": 4,
 "nbformat_minor": 2
}

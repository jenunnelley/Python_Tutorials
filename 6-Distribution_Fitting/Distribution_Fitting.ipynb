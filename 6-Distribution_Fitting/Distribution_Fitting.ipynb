{
 "cells": [
  {
   "cell_type": "markdown",
   "metadata": {},
   "source": [
    "# Distribution Fitting\n",
    "\n",
    "In this notebook, we will look at methods for fitting distributions to data using Python. In particular, we will look at both parametric and non-parametric distribution fitting methods. \n",
    "\n",
    "From https://en.wikipedia.org/wiki/Parametric_statistics (accessed 12/31/2018):\n",
    "> Parametric statistics is a branch of statistics which assumes that sample data comes from a population that follows a probability distribution based on a fixed set of parameters. Most well-known elementary statistical methods are parametric. Conversely a non-parametric model differs precisely in that the parameter set (or feature set in machine learning) is not fixed and can increase, or even decrease if new relevant information is collected.\n",
    ">\n",
    "> Since a parametric model relies on a fixed parameter set, it assumes more about a given population than non-parametric methods do. When the assumptions are correct, parametric methods will produce more accurate and precise estimates than non-parametric methods, i.e. have more statistical power. However, as more is assumed by parametric methods, when the assumptions are not correct they have a greater chance of failing, and for this reason are not robust statistical methods. On the other hand, parametric formulae are often simpler to write down and faster to compute. For this reason their simplicity can make up for their lack of robustness, especially if care is taken to examine diagnostic statistics.\n",
    "\n",
    "The parametric methods that we look at will attempt to estimate the parameters of a known empirical distribution from a data set. Essentially, we will define a set of known probability distributions, attempt to fit each one to a given data set, and then compare the errors associated with the various distribution fits to identify a single distribution that provides the closest approximation.\n",
    "\n",
    "The non-parametric method that we will consider is known as kernel density estimation. Kernel density estimation works by centering a fixed *kernel function* at each data point that composes a data set. An example of a *kernel function* is a Normal distribution with mean equal to the data point value and a standard deviation of 1.0. Summing the kernal functions for all values in the sample space, and then normalizing the resulting sums results in a estimate of the probability distribution function for the data. The smoothness of the kernel density estimate (KDE) is controlled by the kernel function. For example, using a Normal distribution with a standard deviation of 2.0 will result in a smoother KDE than a Normal distribution with a standard deviation of 1.0.\n",
    "\n",
    "Before discussing either approach to distribution fitting, we will first discuss the detection and removal of outliers from a data set. \n",
    "\n",
    "# Table of Contents\n",
    "<a id=\"Table_of_Contents\"> </a>\n",
    "\n",
    "1. [Outlier Detection and Removal](#Outlier_Detection_and_Removal)<br>\n",
    "2. [Parametric Distribution Fitting](#Parametric_Distribution_Fitting)<br>\n",
    "3. [Non-Parametric Distribution Fitting](#nonParametric_Distribution_Fitting)<br>\n",
    "4. [Putting it all together](#Putting_it_all_together)<br>\n",
    "\n",
    "The following code block imports the Numpy and Matplotlib packages, which we will be using in this demonstration.\n",
    "\n",
    "[Back to Table of Contents](#Table_of_Contents)<br>"
   ]
  },
  {
   "cell_type": "markdown",
   "metadata": {},
   "source": [
    "The following code block imports packages that we will use to demonstrate parametric distribution fitting. In partiucular, we will largely rely on the capabilities provided by the `scipy.stats` module. From https://en.wikipedia.org/wiki/SciPy (accessed 12/31/2019):\n",
    "\n",
    "> SciPy (pronounced \"Sigh Pie\") is a free and open-source Python library used for scientific computing and technical computing.\n",
    ">\n",
    ">SciPy contains modules for optimization, linear algebra, integration, interpolation, special functions, FFT, signal and image processing, ODE solvers and other tasks common in science and engineering.\n",
    ">\n",
    ">SciPy builds on the NumPy array object and is part of the NumPy stack which includes tools like Matplotlib, pandas and SymPy, and an expanding set of scientific computing libraries. This NumPy stack has similar users to other applications such as MATLAB, GNU Octave, and Scilab. The NumPy stack is also sometimes referred to as the SciPy stack.\n",
    "\n",
    "[Back to Table of Contents](#Table_of_Contents)<br>"
   ]
  },
  {
   "cell_type": "code",
   "execution_count": 1,
   "metadata": {},
   "outputs": [],
   "source": [
    "import numpy as np \n",
    "import pandas as pd\n",
    "import matplotlib.pyplot as plt\n",
    "import scipy.stats as st"
   ]
  },
  {
   "cell_type": "markdown",
   "metadata": {},
   "source": [
    "The following code block uses Numpy to randomly generate a 500-point data set that follows a lognormal distribution. This data is plotted as a histogram. \n",
    "\n",
    "[Back to Table of Contents](#Table_of_Contents)<br>"
   ]
  },
  {
   "cell_type": "code",
   "execution_count": 2,
   "metadata": {},
   "outputs": [
    {
     "data": {
      "image/png": "[encoded data removed]",
      "text/plain": [
       "<Figure size 864x432 with 1 Axes>"
      ]
     },
     "metadata": {
      "needs_background": "light"
     },
     "output_type": "display_data"
    }
   ],
   "source": [
    "np.random.seed(0)\n",
    "data  = np.random.lognormal(mean = 0.5, sigma = 0.5, size = 500)\n",
    "\n",
    "fig, ax = plt.subplots(1, 1, figsize = (12, 6))\n",
    "\n",
    "ax.hist(data, edgecolor = 'k', label = 'Actual Data')\n",
    "ax.set_ylabel('Frequency', fontsize = 20)\n",
    "ax.set_xlabel('Value', fontsize = 20)\n",
    "ax.set_title('Histogram of Data',  fontsize = 20)\n",
    "\n",
    "plt.show()"
   ]
  },
  {
   "cell_type": "markdown",
   "metadata": {},
   "source": [
    "## Outlier Detection and Removal\n",
    "<a id=\"Outlier_Detection_and_Removal\"> </a>\n",
    "\n",
    "In this section, we will discuss the detection and removal of outliers from a data set. The most common approach for this purpose is the use of boxplots. Adapted from https://towardsdatascience.com/understanding-boxplots-5e2df7bcbd51 (accessed 12/31/2019):\n",
    "\n",
    "> Boxplots are a standardized way of displaying the distribution of data based on a five number summary (\"minimum\", first quartile (Q1), median, third quartile (Q3), and \"maximum\"), where\n",
    "> - the median (Q2/50th Percentile) denotes the middle value of the dataset,\n",
    "> - the first quartile (Q1/25th Percentile) denotes the middle number between the smallest number (not the \"minimum\") and the median of the dataset,\n",
    "> - the third quartile (Q3/75th Percentile) denotes the middle value between the median and the highest value (not the \"maximum\") of the dataset,\n",
    "> - the interquartile range (IQR) denotes the difference between the third and first quartiles,\n",
    "> - the \"maximum\" is estimated as Q3 + 1.5(IQR), and\n",
    "> - the \"minimum\" is estimated as Q1 -1.5(IQR).\n",
    "\n",
    "Essentially, the boxlot calculations use the interquartile range (IQR) to approximate the variability associated with the data, and estimate the minimum and maximum values using multiples of the IQR. These estimations of the minimum and maximum values are not the smallest and largest values in the data. Instead, they are approximations for *reasonable* boundaries of the distribution. Any values that are less than or greater than these boundaries are flagged as outliers.\n",
    "\n",
    "The following code block uses Matplotlib to generate a boxplot for our data. The data points shown in circles exceed the \"maximum\" value of Q3 + 1.5(IQR), so they are identified as potential outliers.\n",
    "\n",
    "<div class=\"alert alert-block alert-danger\">\n",
    "    <b>The use of boxplots when data is not symmetric:</b> In the boxplot that is shown below, you may be surprised that a large number of potential outliers is identified, even though we know that the data was generated in a fashion that follows a known probability distribution, i.e., a lognormal distribution. The reason for this behavior is the skewness of the data. As the boxplot indicates, the data is right-skewed with a long *tail* extending to higher values. This skewness makes it somewhat more likely that we will see values exceeding the \"maximum\" suggested by the boxplot. Thus, analysts should exercise extreme care when using boxplots to identify outliers when the underlying data is skewed.\n",
    "</div>\n",
    "\n",
    "[Back to Table of Contents](#Table_of_Contents)<br>"
   ]
  },
  {
   "cell_type": "code",
   "execution_count": 3,
   "metadata": {},
   "outputs": [
    {
     "data": {
      "image/png": "[encoded data removed]",
      "text/plain": [
       "<Figure size 432x432 with 1 Axes>"
      ]
     },
     "metadata": {
      "needs_background": "light"
     },
     "output_type": "display_data"
    }
   ],
   "source": [
    "fig, ax = plt.subplots(1, 1, figsize = (6, 6))\n",
    "\n",
    "ax.boxplot(data, notch = True, showfliers = True)\n",
    "ax.set_ylabel('Value', fontsize = 20)\n",
    "ax.set_xlabel('', fontsize = 20)\n",
    "plt.title('Boxplot for Generated Data')\n",
    "\n",
    "plt.show()"
   ]
  },
  {
   "cell_type": "markdown",
   "metadata": {},
   "source": [
    "In practice, values that are lower or higher than the \"minimum\" and \"maximum\" values may be further categorized as \"mild\" or \"extreme\" outliers. The following excerpts explain these designations. \n",
    "\n",
    "Adapted from https://www.purplemath.com/modules/boxwhisk3.htm (accessed 1/1/2019): \n",
    "\n",
    "> Why one and a half times the width of the IQR for the outliers? Why does that particular value demark the difference between \"acceptable\" and \"unacceptable\" values? Because, when John Tukey was inventing the box-and-whisker plot in 1977 to display these values, he picked 1.5(IQR) as the demarkation line for outliers. This has worked well, so we've continued using that value ever since. If you go further into statistics, you'll find that this measure of reasonableness, for bell-curve-shaped data, means that usually only maybe as much as about one percent of the data will ever be outliers.\n",
    "> \n",
    "> The values Q1 – 1.5(IQR) and Q3 + 1.5(IQR) are \"fences\" that differentiate \"reasonable\" values from outlier values. Outliers lie outside the fences.\n",
    ">\n",
    "> If your assignment is having you consider not only outliers but also \"extreme values\", then the values Q1 – 1.5(IQR) and Q3 + 1.5(IQR) are the \"inner\" fences and the values Q1 – 3(IQR) and Q3 + 3(IQR)  are the \"outer\" fences.\n",
    ">\n",
    "> Mild outliers are between the inner and outer fences, and extreme values are outside the outer fences.\n",
    "\n",
    "The following code block uses NumPy's `percentile` method to compte these *fence* values.\n",
    "\n",
    "[Back to Table of Contents](#Table_of_Contents)<br>"
   ]
  },
  {
   "cell_type": "code",
   "execution_count": 4,
   "metadata": {},
   "outputs": [],
   "source": [
    "q75, q25 = np.percentile(data, [75 ,25])\n",
    "iqr = q75 - q25\n",
    "lower_inner_fence = q25 - 1.5*iqr\n",
    "upper_inner_fence = q75 + 1.5*iqr\n",
    "lower_outer_fence = q25 - 3.0*iqr\n",
    "upper_outer_fence = q75 + 3.0*iqr"
   ]
  },
  {
   "cell_type": "markdown",
   "metadata": {},
   "source": [
    "The following code block uses NumPy's boolean array capabilities to identify the extreme outliers.\n",
    "\n",
    "[Back to Table of Contents](#Table_of_Contents)<br>"
   ]
  },
  {
   "cell_type": "code",
   "execution_count": 5,
   "metadata": {
    "scrolled": true
   },
   "outputs": [
    {
     "data": {
      "text/plain": [
       "array([6.34782368])"
      ]
     },
     "execution_count": 5,
     "metadata": {},
     "output_type": "execute_result"
    }
   ],
   "source": [
    "extreme_outliers = data[(data > upper_outer_fence) | (data < lower_outer_fence)] \n",
    "extreme_outliers"
   ]
  },
  {
   "cell_type": "markdown",
   "metadata": {},
   "source": [
    "The following code block uses NumPy's boolean array capabilities to identify both the mild and extreme outliers.\n",
    "\n",
    "[Back to Table of Contents](#Table_of_Contents)<br>"
   ]
  },
  {
   "cell_type": "code",
   "execution_count": 6,
   "metadata": {},
   "outputs": [
    {
     "data": {
      "text/plain": [
       "array([5.05534753, 4.19452035, 5.12882871, 4.37273074, 4.25436106,\n",
       "       4.02665194, 4.22735012, 4.35711697, 4.31229831, 4.19452239,\n",
       "       4.28462261, 4.15632747, 5.42800893, 4.32653083, 4.86281736,\n",
       "       5.10211151, 4.38397635, 4.6285629 , 5.2171869 , 5.09552013,\n",
       "       4.52909337, 5.50813913, 6.34782368])"
      ]
     },
     "execution_count": 6,
     "metadata": {},
     "output_type": "execute_result"
    }
   ],
   "source": [
    "mild_and_extreme_outliers = data[(data > upper_inner_fence) | (data < lower_inner_fence)] \n",
    "mild_and_extreme_outliers"
   ]
  },
  {
   "cell_type": "markdown",
   "metadata": {},
   "source": [
    "The following code block shows how we may use the boolean arrays to remove the outliers from our data.\n",
    "\n",
    "[Back to Table of Contents](#Table_of_Contents)<br>"
   ]
  },
  {
   "cell_type": "code",
   "execution_count": 7,
   "metadata": {},
   "outputs": [],
   "source": [
    "data_no_extreme = data[np.logical_not((data > upper_outer_fence) | (data < lower_outer_fence))] \n",
    "data_no_mild_or_extreme = data[np.logical_not((data > upper_inner_fence) | (data < lower_inner_fence))] "
   ]
  },
  {
   "cell_type": "markdown",
   "metadata": {},
   "source": [
    "The following code block constructs a histogram that shows the original data along with the copies of the data that have outliers removed.\n",
    "\n",
    "[Back to Table of Contents](#Table_of_Contents)<br>"
   ]
  },
  {
   "cell_type": "code",
   "execution_count": 8,
   "metadata": {},
   "outputs": [
    {
     "data": {
      "image/png": "[encoded data removed]",
      "text/plain": [
       "<Figure size 864x432 with 1 Axes>"
      ]
     },
     "metadata": {
      "needs_background": "light"
     },
     "output_type": "display_data"
    }
   ],
   "source": [
    "fig, ax = plt.subplots(1, 1, figsize = (12, 6))\n",
    "\n",
    "ax.hist(data, \n",
    "        bins = 'auto', \n",
    "        edgecolor = 'k', \n",
    "        color = 'g', \n",
    "        label = 'All data')\n",
    "ax.hist(data_no_extreme, \n",
    "        bins = 'auto', \n",
    "        alpha = 0.8, \n",
    "        edgecolor = 'k', \n",
    "        color = 'y', \n",
    "        label = 'Extreme outliers removed')\n",
    "ax.hist(data_no_mild_or_extreme, \n",
    "        bins = 'auto', \n",
    "        edgecolor = 'k', \n",
    "        alpha = 0.6, \n",
    "        color = 'r', \n",
    "        label = 'Mild/Extreme outliers removed')\n",
    "ax.set_xlabel('Value', fontsize = 15)\n",
    "ax.set_ylabel('Frequency', fontsize = 15)\n",
    "ax.legend()\n",
    "ax.set_title('Histogram of Data', fontsize = 15)\n",
    "\n",
    "plt.show()"
   ]
  },
  {
   "cell_type": "markdown",
   "metadata": {},
   "source": [
    "The following code block defines a function that removes outliers from a data set that is passed as an argument to the function.\n",
    "\n",
    "[Back to Table of Contents](#Table_of_Contents)<br>"
   ]
  },
  {
   "cell_type": "code",
   "execution_count": 9,
   "metadata": {},
   "outputs": [],
   "source": [
    "def remove_outliers(data, include_plot = False, remove_mild_outliers = False):\n",
    "    '''\n",
    "    This function removes outliers from a dataset that is structured\n",
    "    as a 1-dimensional array or list. The function always removes extreme\n",
    "    outliers, i.e., data values x that satisfy 'x < q25 - 3*IQR' or \n",
    "    'x > q75 + 3*IQR', where q25 denotes the 25th percentile value, q75 \n",
    "    denotes the 75th percentile value, and IQR denotes the inter-quartile\n",
    "    range (q75 - q25). In addition, setting the optional remove_mild_outliers\n",
    "    argument to True allows users to also remove mild outliers, i.e., data \n",
    "    values x that satisfy 'x < q25 - 1.5*IQR' or 'x > q75 + 1.5*IQR'.\n",
    "    \n",
    "    Arguments:\n",
    "    data: a 1-dimensional list or Numpy array that includes the data\n",
    "    \n",
    "    include_plot: True or False to denote whether or not a histogram is\n",
    "    plotted to show the data before and after outlier removal\n",
    "    \n",
    "    remove_mild_outliers: True or False to denote whether or not mild \n",
    "    outliers should be removed.\n",
    "    \n",
    "    Returns:\n",
    "    data: a modifed copy of the data with outliers removed. If the data\n",
    "    was provided in a list, a list is returned. Otherwise, a Numpy array\n",
    "    is returned.\n",
    "    \n",
    "    Examples:\n",
    "    \n",
    "    # data provided as a list\n",
    "    >>> data = [1,1,1,1,2,2,1,1,1,1,5,10,10]\n",
    "    \n",
    "    >>> remove_outliers(data)\n",
    "    [1, 1, 1, 1, 2, 2, 1, 1, 1, 1, 5]\n",
    "    \n",
    "    # data provided as Numpy array\n",
    "    >>> data = np.array([1,1,1,1,2,2,1,1,1,1,5,10,10])\n",
    "    \n",
    "    >>> remove_outliers(data, include_plot = False, remove_mild_outliers = True)\n",
    "    array([1, 1, 1, 1, 2, 2, 1, 1, 1, 1])\n",
    "     \n",
    "        \n",
    "    '''\n",
    "    import numpy as np\n",
    "    import scipy.stats as st\n",
    "    import matplotlib.pyplot as plt\n",
    "    \n",
    "    output_type = 'array'\n",
    "    if type(data) == list:\n",
    "        output_type = 'list'\n",
    "        data = np.array(data)\n",
    "    \n",
    "    if include_plot:\n",
    "        plt.hist(data, \n",
    "                 density = True, \n",
    "                 bins = 'auto', \n",
    "                 label = 'Original',  \n",
    "                 color = 'grey', \n",
    "                 edgecolor = 'k')\n",
    "        \n",
    "    q75, q25 = np.percentile(data, [75 ,25])\n",
    "    iqr = q75 - q25\n",
    "    lower_inner_fence = q25 - 1.5*iqr\n",
    "    upper_inner_fence = q75 + 1.5*iqr\n",
    "    lower_outer_fence = q25 - 3.0*iqr\n",
    "    upper_outer_fence = q75 + 3.0*iqr\n",
    "    data = data[np.logical_not((data > upper_outer_fence) | (data < lower_outer_fence))] \n",
    "    if remove_mild_outliers:\n",
    "        data = data[np.logical_not((data > upper_inner_fence) | (data < lower_inner_fence))]     \n",
    "            \n",
    "    if include_plot:\n",
    "        plt.hist(data, \n",
    "                 density = True, \n",
    "                 bins = 'auto', \n",
    "                 label = 'Outliers Removed',\n",
    "                 alpha = 0.8, \n",
    "                 color = 'green', \n",
    "                 edgecolor = 'k')\n",
    "        plt.xlabel('Value')\n",
    "        plt.ylabel('Frequency')\n",
    "        plt.legend()\n",
    "        plt.show()\n",
    "        \n",
    "    if output_type == 'list':    \n",
    "        return list(data)\n",
    "    else:    \n",
    "        return data"
   ]
  },
  {
   "cell_type": "markdown",
   "metadata": {},
   "source": [
    "The following code block demonstrates the use of the previously defined function.\n",
    "\n",
    "[Back to Table of Contents](#Table_of_Contents)<br>"
   ]
  },
  {
   "cell_type": "code",
   "execution_count": 10,
   "metadata": {},
   "outputs": [
    {
     "data": {
      "image/png": "[encoded data removed]",
      "text/plain": [
       "<Figure size 432x288 with 1 Axes>"
      ]
     },
     "metadata": {
      "needs_background": "light"
     },
     "output_type": "display_data"
    },
    {
     "data": {
      "text/plain": [
       "array([3.98296363, 2.013911  , 2.68953682, 1.01142584, 2.65128442,\n",
       "       1.52855279, 1.56579013, 2.02445241, 1.77184572, 3.41144772,\n",
       "       2.41215096, 1.75213932, 2.05840542, 1.94806615, 3.48002521,\n",
       "       1.48798204, 1.92809766, 1.07567904, 0.46001559, 2.2860131 ,\n",
       "       2.54013721, 1.13759626, 0.79677509, 1.68687762, 1.50141512,\n",
       "       3.54801967, 3.4372763 , 1.78153208, 1.99188467, 1.05771099,\n",
       "       0.61238247, 1.38547623, 1.78278096, 3.05001144, 3.00774288,\n",
       "       1.35843947, 1.41743461, 0.97601582, 0.81057698, 0.70248228,\n",
       "       1.27784352, 1.3244044 , 0.88126432, 2.43207591, 0.73568818,\n",
       "       1.48235177, 1.05365674, 2.00060823, 1.27710709, 0.91364234,\n",
       "       1.62565187, 2.04248241, 1.7044775 , 1.9179098 , 1.20062104,\n",
       "       1.37524159, 1.17794309, 1.37743548, 1.0979303 , 0.69548815,\n",
       "       1.8016683 , 1.34865734, 0.7297165 , 2.07796932, 1.04744181,\n",
       "       1.69210395, 2.37392637, 1.75855325, 2.91450601, 0.88921795,\n",
       "       2.01611183, 1.17069192, 1.06673377, 1.23438784, 1.41089427,\n",
       "       1.69567802, 0.92074245, 2.58677841, 2.08096394, 0.76481459,\n",
       "       3.46990112, 2.97245968, 1.50687442, 0.96524212, 2.79330606,\n",
       "       1.34771629, 3.03807027, 1.82967341, 2.6867157 , 1.97029484,\n",
       "       2.34734895, 1.65739984, 1.75673337, 2.01575675, 0.84039813,\n",
       "       0.87350406, 2.67700426, 0.91707896, 1.34069818, 1.13459141,\n",
       "       3.45650304, 2.59353635, 1.0718511 , 1.44195281, 2.46262585,\n",
       "       2.64752697, 1.52576352, 2.24126331, 2.61457964, 1.99015548,\n",
       "       0.95151446, 1.91385415, 3.20013485, 1.16499416, 1.52986995,\n",
       "       1.32633994, 2.30746006, 2.02127989, 1.12192052, 2.15895562,\n",
       "       1.17684093, 1.67517105, 1.19970652, 2.31223976, 2.19964373,\n",
       "       1.48564738, 2.00973597, 0.9545352 , 0.78221253, 2.05380845,\n",
       "       1.79200794, 2.26486628, 2.6438594 , 1.04455284, 2.88206815,\n",
       "       0.85388931, 1.30892697, 1.5934145 , 3.88324584, 1.13612414,\n",
       "       1.09065751, 1.56952612, 1.18324523, 2.89596376, 0.96082234,\n",
       "       0.92891845, 1.32457278, 1.28528923, 2.65039955, 1.7224981 ,\n",
       "       0.89340278, 2.51477035, 0.99989233, 0.76156059, 2.98623948,\n",
       "       1.93183689, 2.61281821, 1.93356186, 2.53049594, 1.19063551,\n",
       "       0.98302432, 2.31821446, 1.10328839, 1.16792084, 1.31289385,\n",
       "       1.66319355, 1.38126956, 0.82904931, 1.19505331, 0.5424271 ,\n",
       "       2.25379559, 0.74005644, 0.94914693, 1.69228983, 1.13907725,\n",
       "       3.56622387, 0.86378753, 1.88424165, 1.61665402, 0.91938827,\n",
       "       2.14178229, 1.51320033, 2.4251546 , 2.48867907, 3.21640403,\n",
       "       1.37081997, 1.46273857, 2.85716478, 2.28789428, 2.27064916,\n",
       "       0.7345641 , 1.62878923, 1.13995016, 1.89640938, 1.56976324,\n",
       "       2.59890305, 1.93210312, 2.44284656, 1.3057668 , 1.02816625,\n",
       "       1.34309299, 1.63474985, 1.99287011, 1.61425157, 1.0222719 ,\n",
       "       1.38681411, 1.30761127, 2.09748863, 0.76307534, 1.70170552,\n",
       "       1.78292143, 1.85167478, 1.22304294, 1.46380489, 0.80894006,\n",
       "       1.28832131, 1.25680057, 2.02997814, 0.92488006, 2.43658885,\n",
       "       3.4807308 , 0.58567368, 2.04036633, 2.31278868, 1.19875257,\n",
       "       1.3517014 , 1.54273947, 1.42063586, 1.41268693, 0.71319393,\n",
       "       2.93341063, 2.82867752, 1.09781064, 0.79198552, 2.13941502,\n",
       "       1.23627894, 1.76999475, 1.40541944, 2.32976959, 2.33351233,\n",
       "       1.14705904, 0.82556938, 0.74716503, 2.23712082, 0.90989176,\n",
       "       1.27965668, 1.22365586, 1.6059514 , 0.62616592, 1.81192406,\n",
       "       2.14244031, 1.72324828, 1.41136443, 1.7310014 , 2.01279272,\n",
       "       0.41217949, 2.00380257, 1.18981247, 1.35597847, 2.11038604,\n",
       "       1.55573489, 0.59729614, 1.56006841, 2.74583812, 1.16646181,\n",
       "       3.55440801, 1.90250577, 2.23540388, 0.97762738, 3.02095391,\n",
       "       2.32776617, 3.16110963, 1.20436953, 1.29626421, 0.97043786,\n",
       "       1.54037385, 2.91085159, 1.73128254, 2.20665289, 1.35023073,\n",
       "       1.98382727, 0.8579037 , 3.77751105, 1.55413322, 1.17340631,\n",
       "       2.30064965, 1.30949309, 0.84609026, 0.84083591, 2.33237387,\n",
       "       1.5222862 , 1.54210632, 2.82602718, 0.93855586, 1.14414899,\n",
       "       1.36010254, 1.72836486, 1.61432074, 1.4284021 , 1.59869361,\n",
       "       1.56259416, 1.15050135, 1.09801445, 1.89128819, 1.05605731,\n",
       "       0.92433786, 1.41037253, 1.52373795, 1.15910698, 2.64224877,\n",
       "       2.39550525, 0.90985278, 2.42692855, 0.91215959, 0.4362298 ,\n",
       "       2.23258423, 0.68526799, 2.06569603, 1.17115981, 3.78019425,\n",
       "       2.81300892, 1.3143038 , 1.16892111, 0.8984909 , 1.32251957,\n",
       "       1.43307467, 1.37389975, 1.78309733, 2.20176816, 1.96369368,\n",
       "       1.12516314, 0.80340548, 3.26175673, 1.16797959, 1.18988088,\n",
       "       1.27049342, 0.65603917, 1.29824454, 1.2971533 , 2.24831073,\n",
       "       2.33784268, 1.65183278, 2.62721457, 1.95420311, 1.63584411,\n",
       "       1.7868675 , 1.49881269, 1.3533395 , 1.44214737, 0.93799969,\n",
       "       1.89689977, 1.00344411, 2.51133788, 1.45538535, 1.69003205,\n",
       "       2.11048629, 2.2742657 , 0.75177988, 1.48668404, 2.56021043,\n",
       "       0.70535581, 2.00098636, 0.53377434, 0.98880966, 1.68087632,\n",
       "       0.7201055 , 1.00727094, 0.78984583, 3.75867862, 1.78981789,\n",
       "       2.18943855, 1.47500658, 1.38165786, 0.73474109, 1.42487105,\n",
       "       1.12665593, 2.53187963, 2.91698612, 3.43250171, 2.52508814,\n",
       "       1.22222508, 0.94369855, 2.41894523, 1.97022236, 0.68094807,\n",
       "       1.96942357, 2.47752459, 1.69801988, 1.50301511, 1.10095255,\n",
       "       0.79990097, 2.45996956, 1.41261526, 1.4670692 , 3.92105439,\n",
       "       2.32158596, 1.98459031, 1.7700909 , 3.52541243, 3.89539332,\n",
       "       2.62413825, 2.20584862, 0.57850879, 1.75393346, 1.54488044,\n",
       "       1.72802064, 2.64196523, 0.41901918, 1.24028845, 1.8869319 ,\n",
       "       1.3054884 , 0.81183914, 2.54589369, 1.89351701, 1.01455259,\n",
       "       1.92978501, 2.48629302, 1.6530901 , 2.46029781, 1.71451474,\n",
       "       1.35308275, 0.92338385, 1.57938356, 1.81692674, 2.55465295,\n",
       "       1.5565102 , 2.07240093, 1.01785146, 1.1148116 , 1.56018648,\n",
       "       0.97305543, 2.48463041, 2.07833099, 1.89562364, 1.95316681,\n",
       "       1.30417141, 0.54841628, 1.82148135, 1.60752902, 1.27282709,\n",
       "       1.01064129, 1.3236661 , 1.80519607, 1.28221833, 1.01994409,\n",
       "       1.10898071, 0.52502467, 1.8696331 , 0.60157545, 1.25894326,\n",
       "       1.43643555, 1.15619682, 3.93313312, 2.71067368, 3.18855692,\n",
       "       1.06055313, 2.8988005 , 2.11277125, 2.42468829, 2.75858927,\n",
       "       1.0466749 , 1.33354551, 2.53780112, 0.43700548, 3.51368042,\n",
       "       2.17399401, 1.61147196, 1.84089861, 0.98514382, 1.38406984,\n",
       "       2.85805742, 3.15507096, 1.58889319, 1.18616275, 1.27491947,\n",
       "       0.99101963, 1.58577401])"
      ]
     },
     "execution_count": 10,
     "metadata": {},
     "output_type": "execute_result"
    }
   ],
   "source": [
    "remove_outliers(data, include_plot = True, remove_mild_outliers = True)"
   ]
  },
  {
   "cell_type": "markdown",
   "metadata": {},
   "source": [
    "## Parametric Distribution Fitting\n",
    "<a id=\"Parametric_Distribution_Fitting\"> </a>\n",
    "\n",
    "This section looks at how we can use the SciPy library to for parametric distribution fitting. As stated earlier, parametric statistical techniques assume that a sample of data belongs to a larger population that follows a probability distribution that is based on a fixed set of parameters, e.g., a normal distribution with mean $\\mu$ and standard deviation $\\sigma$. Our approach to fitting distributions will be as follows:\n",
    "\n",
    "1. Construct a histogram of the data,\n",
    "2. Use the bin edges of the histogram to compute the midpoints of the bins,\n",
    "3. Fit known probability distributions to the previously computed midpoints,\n",
    "4. Calculate the sum-of-squares error between the fit from step 3 and the actal data,\n",
    "5. Select a distibrution for use based on the computed errors.\n",
    "\n",
    "[Back to Table of Contents](#Table_of_Contents)<br>"
   ]
  },
  {
   "cell_type": "markdown",
   "metadata": {},
   "source": [
    "### Calculating Midpoints\n",
    "\n",
    "Before continuing, let's look at how we can construct a histogram for a given data set and identify the midpoints of the bins. For the histogram construction, we will use NumPy's `histogram` method. For a provided set of data, this function returns a tuple that specifies the height of each bin and the bin edges. **Note that if we have $n$ bins, we will have $n+1$ bin edges**. Setting the `density` argument to `True` tells the method to normalize the values returned so that it resembles a probability density function.\n",
    "\n",
    "The following code block executes the method on our sample data.\n",
    "\n",
    "[Back to Table of Contents](#Table_of_Contents)<br>"
   ]
  },
  {
   "cell_type": "code",
   "execution_count": 11,
   "metadata": {},
   "outputs": [],
   "source": [
    "y, x = np.histogram(data, bins = 'auto', density=True)"
   ]
  },
  {
   "cell_type": "markdown",
   "metadata": {},
   "source": [
    "The values for each bin are given by printing the `y` object.\n",
    "\n",
    "[Back to Table of Contents](#Table_of_Contents)<br>"
   ]
  },
  {
   "cell_type": "code",
   "execution_count": 12,
   "metadata": {
    "scrolled": true
   },
   "outputs": [
    {
     "data": {
      "text/plain": [
       "array([0.12736612, 0.41747785, 0.52361629, 0.58022346, 0.45993323,\n",
       "       0.36794658, 0.26180815, 0.27595994, 0.13444202, 0.07783485,\n",
       "       0.06368306, 0.04953127, 0.04245537, 0.06368306, 0.02830358,\n",
       "       0.0070759 , 0.03537948, 0.0070759 , 0.0070759 , 0.        ,\n",
       "       0.0070759 ])"
      ]
     },
     "execution_count": 12,
     "metadata": {},
     "output_type": "execute_result"
    }
   ],
   "source": [
    "y"
   ]
  },
  {
   "cell_type": "markdown",
   "metadata": {},
   "source": [
    "Using the `len()` function, we can see how many values are included in the `y` object.\n",
    "\n",
    "[Back to Table of Contents](#Table_of_Contents)<br>"
   ]
  },
  {
   "cell_type": "code",
   "execution_count": 13,
   "metadata": {},
   "outputs": [
    {
     "data": {
      "text/plain": [
       "21"
      ]
     },
     "execution_count": 13,
     "metadata": {},
     "output_type": "execute_result"
    }
   ],
   "source": [
    "len(y)"
   ]
  },
  {
   "cell_type": "markdown",
   "metadata": {},
   "source": [
    "The values for each bin edge are given by printing the `x` object.\n",
    "\n",
    "[Back to Table of Contents](#Table_of_Contents)<br>"
   ]
  },
  {
   "cell_type": "code",
   "execution_count": 14,
   "metadata": {},
   "outputs": [
    {
     "data": {
      "text/plain": [
       "array([0.41217949, 0.69482921, 0.97747893, 1.26012866, 1.54277838,\n",
       "       1.8254281 , 2.10807783, 2.39072755, 2.67337727, 2.956027  ,\n",
       "       3.23867672, 3.52132644, 3.80397617, 4.08662589, 4.36927561,\n",
       "       4.65192534, 4.93457506, 5.21722478, 5.49987451, 5.78252423,\n",
       "       6.06517395, 6.34782368])"
      ]
     },
     "execution_count": 14,
     "metadata": {},
     "output_type": "execute_result"
    }
   ],
   "source": [
    "x"
   ]
  },
  {
   "cell_type": "markdown",
   "metadata": {},
   "source": [
    "As noted earlier, the number of bin edges returned exceeds the number of values by one.\n",
    "\n",
    "[Back to Table of Contents](#Table_of_Contents)<br>"
   ]
  },
  {
   "cell_type": "code",
   "execution_count": 15,
   "metadata": {},
   "outputs": [
    {
     "data": {
      "text/plain": [
       "22"
      ]
     },
     "execution_count": 15,
     "metadata": {},
     "output_type": "execute_result"
    }
   ],
   "source": [
    "len(x)"
   ]
  },
  {
   "cell_type": "markdown",
   "metadata": {},
   "source": [
    "To compute the midpoints for the bins, we need to essentially compute the midpoint of consecutive bin edges. We will use NumPy's `roll` method to perform this computation. The roll function essentially allows us to shift the values in a NumPy array by a specified amount. For example, the following code block shifts all values in the array one position earlier, with the first value *wrapping* around to the end.\n",
    "\n",
    "[Back to Table of Contents](#Table_of_Contents)<br>"
   ]
  },
  {
   "cell_type": "code",
   "execution_count": 16,
   "metadata": {},
   "outputs": [
    {
     "data": {
      "text/plain": [
       "array([0.69482921, 0.97747893, 1.26012866, 1.54277838, 1.8254281 ,\n",
       "       2.10807783, 2.39072755, 2.67337727, 2.956027  , 3.23867672,\n",
       "       3.52132644, 3.80397617, 4.08662589, 4.36927561, 4.65192534,\n",
       "       4.93457506, 5.21722478, 5.49987451, 5.78252423, 6.06517395,\n",
       "       6.34782368, 0.41217949])"
      ]
     },
     "execution_count": 16,
     "metadata": {},
     "output_type": "execute_result"
    }
   ],
   "source": [
    "np.roll(x, -1)"
   ]
  },
  {
   "cell_type": "markdown",
   "metadata": {},
   "source": [
    "Note that if we add the values of the original array to the shifted array and divide by two, we will obtain the bin midpoints in the $n-1$ positions of the summed array, where $n$ is the number of bin edges. This is shown in the following code block.\n",
    "\n",
    "[Back to Table of Contents](#Table_of_Contents)<br>"
   ]
  },
  {
   "cell_type": "code",
   "execution_count": 17,
   "metadata": {},
   "outputs": [
    {
     "data": {
      "text/plain": [
       "array([0.55350435, 0.83615407, 1.11880379, 1.40145352, 1.68410324,\n",
       "       1.96675297, 2.24940269, 2.53205241, 2.81470214, 3.09735186,\n",
       "       3.38000158, 3.66265131, 3.94530103, 4.22795075, 4.51060048,\n",
       "       4.7932502 , 5.07589992, 5.35854965, 5.64119937, 5.92384909,\n",
       "       6.20649882, 3.38000158])"
      ]
     },
     "execution_count": 17,
     "metadata": {},
     "output_type": "execute_result"
    }
   ],
   "source": [
    "(x + np.roll(x, -1)) / 2.0"
   ]
  },
  {
   "cell_type": "markdown",
   "metadata": {},
   "source": [
    "As noted, it is easy to see that the first value in the computed array is the midpoint between the first two bin edges returned by the `histogram` method. To remove the last value, we simple use NumPy array indexing to exclude the value as shown in the following code block.\n",
    "\n",
    "[Back to Table of Contents](#Table_of_Contents)<br>"
   ]
  },
  {
   "cell_type": "code",
   "execution_count": 18,
   "metadata": {},
   "outputs": [
    {
     "data": {
      "text/plain": [
       "array([0.55350435, 0.83615407, 1.11880379, 1.40145352, 1.68410324,\n",
       "       1.96675297, 2.24940269, 2.53205241, 2.81470214, 3.09735186,\n",
       "       3.38000158, 3.66265131, 3.94530103, 4.22795075, 4.51060048,\n",
       "       4.7932502 , 5.07589992, 5.35854965, 5.64119937, 5.92384909,\n",
       "       6.20649882])"
      ]
     },
     "execution_count": 18,
     "metadata": {},
     "output_type": "execute_result"
    }
   ],
   "source": [
    "(x + np.roll(x, -1))[:-1] / 2.0"
   ]
  },
  {
   "cell_type": "markdown",
   "metadata": {},
   "source": [
    "Note that the length of the computed array now matches the length of the values array returned by the `histogram` method.\n",
    "\n",
    "[Back to Table of Contents](#Table_of_Contents)<br>"
   ]
  },
  {
   "cell_type": "code",
   "execution_count": 19,
   "metadata": {},
   "outputs": [
    {
     "data": {
      "text/plain": [
       "21"
      ]
     },
     "execution_count": 19,
     "metadata": {},
     "output_type": "execute_result"
    }
   ],
   "source": [
    "len((x + np.roll(x, -1))[:-1] / 2.0)"
   ]
  },
  {
   "cell_type": "markdown",
   "metadata": {},
   "source": [
    "The following code block defines a function that uses the SciPy library, along with the previously desribed midpoint calculation approach to determine how well known probability distributions fit a provided data set. Comments in the function provide insight into what is happening. This function was largely motivated by the post found at https://stackoverflow.com/questions/6620471/fitting-empirical-distribution-to-theoretical-ones-with-scipy-python (accessed 1/1/2019).\n",
    "\n",
    "[Back to Table of Contents](#Table_of_Contents)<br>"
   ]
  },
  {
   "cell_type": "code",
   "execution_count": 20,
   "metadata": {},
   "outputs": [],
   "source": [
    "def fit_distributions(data):\n",
    "    '''\n",
    "    This function fits all of the parametric distributions available\n",
    "    in the scipy.stats module to a provided dataset, computes the \n",
    "    sum-of-squares error (SSE) for each distribution, and returns a\n",
    "    dictionary that specifes the SSE, distribution parameters, and\n",
    "    a frozen distribution object for each distributiob. The distribution \n",
    "    object may be used with '.rvs()' method availble in scipy.stats to \n",
    "    generate a random sample.\n",
    "    \n",
    "    Arguments:\n",
    "    data: a 1-dimensional list or Numpy array that includes the data\n",
    "    \n",
    "    Returns:\n",
    "    data: a dictionary that specifes the SSE, distribution parameters, and\n",
    "    a frozen distribution object for each distribution.\n",
    "         \n",
    "        \n",
    "    '''\n",
    "    import warnings\n",
    "    import numpy as np\n",
    "    import scipy.stats as st\n",
    "    import matplotlib.pyplot as plt\n",
    "    \n",
    "    # The following lines of code allow the function to work regardless of\n",
    "    # whether the data is provided as a Python list or NumPy array\n",
    "    output_type = 'array'\n",
    "    if type(data) == list:\n",
    "        output_type = 'list'\n",
    "        data = np.array(data)\n",
    "    \n",
    "    # The following lines convert the data to a histogram and\n",
    "    # compute the midpoints of the bins\n",
    "    y, x = np.histogram(data, bins='auto', density=True)\n",
    "    x = (x + np.roll(x, -1))[:-1] / 2.0\n",
    "    \n",
    "    # Initialize empty list for storing fit information\n",
    "    dist_list = []\n",
    "    dist_gen_list = []\n",
    "    sse_list = []\n",
    "    args_list = []\n",
    "\n",
    "    # Distributions to check\n",
    "    all_distributions = []\n",
    "    for this in dir(st):\n",
    "        if (\"fit\" in eval(\"dir(st.\" + this +\")\")) and (\"rvs\" in eval(\"dir(st.\" + this +\")\")):\n",
    "            all_distributions.append(this)\n",
    "\n",
    "    # Best holders\n",
    "    best_distribution = st.norm\n",
    "    best_sse = np.inf\n",
    "\n",
    "    # Estimate distribution parameters from data\n",
    "    for dist_string in all_distributions:\n",
    "        distribution = eval(\"st.\" + dist_string)\n",
    "        \n",
    "        sse = None\n",
    "        args = None\n",
    "        dist = None\n",
    "        \n",
    "        # Try to fit the distribution\n",
    "        try:\n",
    "                      \n",
    "            # Ignore warnings from data that can't be fit\n",
    "            with warnings.catch_warnings():\n",
    "                warnings.filterwarnings('ignore')\n",
    "\n",
    "                # fit dist to data\n",
    "                args = distribution.fit(data)\n",
    "                dist = distribution.freeze(*args)\n",
    "\n",
    "                # Calculate fitted PDF and error with fit in distribution\n",
    "                pdf = distribution.pdf(x, *args)\n",
    "                sse = np.sum(np.power(y - pdf, 2.0))\n",
    "\n",
    "                # identify if this distribution is better\n",
    "                if best_sse > sse > 0:\n",
    "                    best_distribution = distribution\n",
    "                    best_sse = sse\n",
    "        \n",
    "        except:\n",
    "            pass\n",
    "        \n",
    "        else:\n",
    "            # Update lists\n",
    "            dist_list.append(dist_string)\n",
    "            sse_list.append(sse)\n",
    "            args_list.append(args)\n",
    "            dist_gen_list.append(dist)\n",
    "            \n",
    "    \n",
    "    # Use the lists to construct a dictionary object        \n",
    "    fit_comparison = {'Distribution_Name': dist_list,\n",
    "                      'Distribution_Generator': dist_gen_list,\n",
    "                      'SSE': sse_list,\n",
    "                      'args': args_list}\n",
    "    \n",
    "    # Return the dictionary object\n",
    "    return fit_comparison"
   ]
  },
  {
   "cell_type": "markdown",
   "metadata": {},
   "source": [
    "The following code block executes the function for our data. The function returns a dictionary with the fit information, which is stored in the `fit_data` object.\n",
    "\n",
    "[Back to Table of Contents](#Table_of_Contents)<br>"
   ]
  },
  {
   "cell_type": "code",
   "execution_count": 21,
   "metadata": {},
   "outputs": [],
   "source": [
    "fit_data = fit_distributions(data)"
   ]
  },
  {
   "cell_type": "markdown",
   "metadata": {},
   "source": [
    "The following code block prints the keys of the `fit_data` dictionary object.\n",
    "\n",
    "[Back to Table of Contents](#Table_of_Contents)<br>"
   ]
  },
  {
   "cell_type": "code",
   "execution_count": 22,
   "metadata": {},
   "outputs": [
    {
     "data": {
      "text/plain": [
       "dict_keys(['Distribution_Name', 'Distribution_Generator', 'SSE', 'args'])"
      ]
     },
     "execution_count": 22,
     "metadata": {},
     "output_type": "execute_result"
    }
   ],
   "source": [
    "fit_data.keys()"
   ]
  },
  {
   "cell_type": "markdown",
   "metadata": {},
   "source": [
    "To identify the best fitting distribtuion, we will select the one that corresponds to the lowest sum-of-squares error (SSE). The following code block finds the index on the fit with the lowest SSE and prints the corresponding distribtuion and SSE.\n",
    "\n",
    "[Back to Table of Contents](#Table_of_Contents)<br>"
   ]
  },
  {
   "cell_type": "code",
   "execution_count": 23,
   "metadata": {},
   "outputs": [
    {
     "name": "stdout",
     "output_type": "stream",
     "text": [
      "A johnsonsu distribution provides the lowest SSE of 0.010614752824900662.\n"
     ]
    }
   ],
   "source": [
    "min_index = fit_data['SSE'].index(min(fit_data['SSE']))\n",
    "best_dist = fit_data['Distribution_Name'][min_index]\n",
    "best_SSE = fit_data['SSE'][min_index]\n",
    "\n",
    "print(f'A {best_dist} distribution provides the lowest SSE of {best_SSE}.')"
   ]
  },
  {
   "cell_type": "markdown",
   "metadata": {},
   "source": [
    "The `Distribution_Generator` objects that are stored in the dictionary are SciPy generators that allow us to directly sample from the associated distribution. The following code block shows how we can use the generator object associated with the lowest SSE fit to generate a sample of 1000 data points. This sample is plotted along with the original data.\n",
    "\n",
    "[Back to Table of Contents](#Table_of_Contents)<br>"
   ]
  },
  {
   "cell_type": "code",
   "execution_count": 24,
   "metadata": {},
   "outputs": [
    {
     "data": {
      "image/png": "[encoded data removed]",
      "text/plain": [
       "<Figure size 864x432 with 1 Axes>"
      ]
     },
     "metadata": {
      "needs_background": "light"
     },
     "output_type": "display_data"
    }
   ],
   "source": [
    "my_sample = fit_data['Distribution_Generator'][min_index].rvs(1000)\n",
    "\n",
    "fig, ax = plt.subplots(1, 1, figsize = (12, 6))\n",
    "\n",
    "ax.hist(data, \n",
    "        density = True, \n",
    "        bins = 'auto', \n",
    "        edgecolor = 'k', \n",
    "        color = 'b', \n",
    "        label = \"Original Data\")\n",
    "ax.hist(my_sample, \n",
    "        density = True, \n",
    "        bins = 'auto', \n",
    "        alpha = 0.7, \n",
    "        edgecolor = 'k', \n",
    "        color = 'g', \n",
    "        label = \"Sampled from Fitted Distribution\")\n",
    "ax.set_xlabel('Value', fontsize = 15)\n",
    "ax.set_ylabel('Frequency', fontsize = 15)\n",
    "ax.legend()\n",
    "ax.set_title('Histogram of Data', fontsize = 15)\n",
    "\n",
    "plt.show()"
   ]
  },
  {
   "cell_type": "markdown",
   "metadata": {},
   "source": [
    "## Non-Parametric Distribution Fitting\n",
    "<a id=\"nonParametric_Distribution_Fitting\"> </a>\n",
    "\n",
    "We will now look at a non-parametric technique for approximating a a probability density function for a finite set of sample data that is known as kernel density estimation. As mentioned earlier, kernel density estimation works by centering a fixed *kernel function* at each data point that composes a data set. Summing the kernal functions for all values in the sample space, and then normalizing the resulting sums results in a estimate of the probability distribution function for the data. The smoothness of the kernel density estimate (KDE) is controlled by the kernel function.\n",
    "\n",
    "We will demonstrate kernel density estimation using another set of randomly generated data that is multi-modal, i.e., it has multiple peaks. The following code block generates and plots the data set.\n",
    "\n",
    "[Back to Table of Contents](#Table_of_Contents)<br>"
   ]
  },
  {
   "cell_type": "code",
   "execution_count": 25,
   "metadata": {},
   "outputs": [
    {
     "data": {
      "image/png": "[encoded data removed]",
      "text/plain": [
       "<Figure size 864x432 with 1 Axes>"
      ]
     },
     "metadata": {
      "needs_background": "light"
     },
     "output_type": "display_data"
    }
   ],
   "source": [
    "np.random.seed(0)\n",
    "data = np.random.normal(loc = 500, scale = 100, size = 500)\n",
    "data = np.append(data, np.random.normal(loc = 1000, scale = 100, size = 250))\n",
    "data = np.append(data, np.random.normal(loc = 1500, scale = 200, size = 150))\n",
    "np.random.shuffle(data)\n",
    "\n",
    "fig, ax = plt.subplots(1, 1, figsize = (12, 6))\n",
    "\n",
    "ax.hist(data,  \n",
    "        bins = 50, \n",
    "        edgecolor = 'k', \n",
    "        label = \"Original Data\")\n",
    "ax.set_xlabel('Value', fontsize = 15)\n",
    "ax.set_ylabel('Frequency', fontsize = 15)\n",
    "ax.legend()\n",
    "ax.set_title('Histogram of Data', fontsize = 15)\n",
    "\n",
    "plt.show()"
   ]
  },
  {
   "cell_type": "markdown",
   "metadata": {},
   "source": [
    "Before continuing, we define a convenience function that we will use throughout the remainder of this notebook. The function finds the minimum and maximum difference between any two consecutive values in a data set.\n",
    "\n",
    "[Back to Table of Contents](#Table_of_Contents)<br>"
   ]
  },
  {
   "cell_type": "code",
   "execution_count": 26,
   "metadata": {},
   "outputs": [],
   "source": [
    "def find_min_max_diff(data, decimal_points = 3):\n",
    "    '''\n",
    "    This function finds the minimum and maximum difference between any\n",
    "    two consecutive values in a data set\n",
    "    \n",
    "    Arguments\n",
    "    data:\n",
    "        a 1-dimensional list or Numpy array that includes the data\n",
    "    \n",
    "    decimal_points:\n",
    "        specifies the number of decimal points that should\n",
    "        be included in the returned results\n",
    "    \n",
    "    Returns\n",
    "    min_val, max_val: \n",
    "        a tuple specifiying the minimum and maximum difference between any\n",
    "        two consecutive values in a data set\n",
    "    \n",
    "    '''\n",
    "    \n",
    "    import numpy as np\n",
    "    \n",
    "    if type(data) == list:\n",
    "        data = np.array(data)\n",
    "    \n",
    "    data_copy = data.copy()\n",
    "    data_copy.sort()\n",
    "    min_val = np.round(np.min(np.roll(data_copy, -1)[:-1] - data_copy[:-1]), decimals = decimal_points)\n",
    "    max_val =  np.round(np.max(np.roll(data_copy, -1)[:-1] - data_copy[:-1]), decimals = decimal_points)\n",
    "    \n",
    "    return min_val, max_val "
   ]
  },
  {
   "cell_type": "markdown",
   "metadata": {},
   "source": [
    "The following code block demonstrates the use of the previously defined function.\n",
    "\n",
    "[Back to Table of Contents](#Table_of_Contents)<br>"
   ]
  },
  {
   "cell_type": "code",
   "execution_count": 27,
   "metadata": {},
   "outputs": [
    {
     "data": {
      "text/plain": [
       "(0.0, 73.696)"
      ]
     },
     "execution_count": 27,
     "metadata": {},
     "output_type": "execute_result"
    }
   ],
   "source": [
    "find_min_max_diff(data, decimal_points = 3)"
   ]
  },
  {
   "cell_type": "markdown",
   "metadata": {},
   "source": [
    "To motivate the intuition behind kernel density estimation, let's recall how histograms summarize a dataset. In particular, note how the number of bins we use affects our perception of the distribution for the underlying data. When a smaller number of wide bins are used, we obtain a *smoother* approximation for the distribution than we do if we use a use a larger number of narrower bins. This is demonstrated in the following code block that allows a user to vary the number of bins used to construct a histogram for the data.\n",
    "\n",
    "[Back to Table of Contents](#Table_of_Contents)<br>"
   ]
  },
  {
   "cell_type": "code",
   "execution_count": 28,
   "metadata": {},
   "outputs": [
    {
     "data": {
      "application/vnd.jupyter.widget-view+json": {
       "model_id": "92704b6e4f164427b13fdbbb7cd35354",
       "version_major": 2,
       "version_minor": 0
      },
      "text/plain": [
       "interactive(children=(Dropdown(description='bins', options=(1, 2, 3, 5, 10, 20, 30, 40, 50, 100, 200, 500, 900…"
      ]
     },
     "metadata": {},
     "output_type": "display_data"
    }
   ],
   "source": [
    "from ipywidgets import interact\n",
    "@interact(bins=[1, 2, 3, 5, 10, 20, 30, 40, 50, 100, 200, 500, len(data)])\n",
    "\n",
    "def run_opt_model(bins=1):\n",
    "    fig, ax = plt.subplots(1, 1, figsize = (12, 6))\n",
    "\n",
    "    ax.hist(data,  \n",
    "            bins = bins, \n",
    "            edgecolor = 'k', \n",
    "            label = \"Original Data\")\n",
    "    ax.set_xlabel('Value', fontsize = 15)\n",
    "    ax.set_ylabel('Frequency', fontsize = 15)\n",
    "    ax.legend()\n",
    "    ax.set_title('Histogram of Data', fontsize = 15)\n",
    "\n",
    "    plt.show()"
   ]
  },
  {
   "cell_type": "markdown",
   "metadata": {},
   "source": [
    "Instead of dividng the range of possible values into bins, suppose that we were to center a *Normal* (or *Gaussian*) distribution on each one of the data points in our sample, each with a standard deviation equal to 1.00. The following code block shows what would happen as we vary the number of points that we plot such curves on.\n",
    "\n",
    "[Back to Table of Contents](#Table_of_Contents)<br>"
   ]
  },
  {
   "cell_type": "code",
   "execution_count": 29,
   "metadata": {},
   "outputs": [
    {
     "data": {
      "application/vnd.jupyter.widget-view+json": {
       "model_id": "23caa2a61a4941618665d97954ff7a2f",
       "version_major": 2,
       "version_minor": 0
      },
      "text/plain": [
       "interactive(children=(Dropdown(description='points', options=(1, 2, 3, 5, 10, 20, 30, 40, 50, 100, 200, 500, 9…"
      ]
     },
     "metadata": {},
     "output_type": "display_data"
    }
   ],
   "source": [
    "@interact(points=[1, 2, 3, 5, 10, 20, 30, 40, 50, 100, 200, 500, len(data)])\n",
    "\n",
    "def run_opt_model(points=1):\n",
    "\n",
    "    X_plot = np.linspace(np.floor(np.min(data)), np.ceil(np.max(data)), 20*int(np.ceil(np.max(data)))).reshape(-1,1)\n",
    "\n",
    "    fig, ax = plt.subplots(1, 1, figsize=(12,6))\n",
    "\n",
    "    samples = []\n",
    "    sigma = 1.0\n",
    "    for i in range(points):\n",
    "        mu = data[i]\n",
    "        new_sample = 1/(sigma * np.sqrt(2 * np.pi)) * np.exp( - (X_plot - mu)**2 / (2 * sigma**2) )\n",
    "        ax.plot(X_plot, new_sample)\n",
    "        ax.set_xlabel(\"Value\",fontsize = 16)\n",
    "        ax.xaxis.set_tick_params(labelsize=16)\n",
    "        ax.yaxis.set_tick_params(labelsize=16)\n",
    "        ax.set_title(f'{points} Point(s) Shown',fontsize = 20)\n",
    "\n",
    "    plt.show()"
   ]
  },
  {
   "cell_type": "markdown",
   "metadata": {},
   "source": [
    "Now, instead of just plotting the individual distributions, what if we summed up the height of distributions overlapping for each value within the range of values, normalized the resulting sum, and used this normalized sum to approximate the relative frequency of the underlying data.\n",
    "\n",
    "The following code block computes and plots the resulting approximation, which is a kernel density estimate (KDE) for the data that is based on a *gaussian* kernel with a *bandwidth* of 1.0. \n",
    "\n",
    "[Back to Table of Contents](#Table_of_Contents)<br>"
   ]
  },
  {
   "cell_type": "code",
   "execution_count": 30,
   "metadata": {},
   "outputs": [
    {
     "data": {
      "image/png": "[encoded data removed]",
      "text/plain": [
       "<Figure size 864x432 with 1 Axes>"
      ]
     },
     "metadata": {
      "needs_background": "light"
     },
     "output_type": "display_data"
    }
   ],
   "source": [
    "X_plot = np.linspace(np.floor(np.min(data)), np.ceil(np.max(data)), 20*int(np.ceil(np.max(data)))).reshape(-1,1)\n",
    "\n",
    "samples = []\n",
    "sigma = 1.0\n",
    "for i in range(len(data)):\n",
    "    mu = data[i]\n",
    "    new_sample = 1/(sigma * np.sqrt(2 * np.pi)) * np.exp( - (X_plot - mu)**2 / (2 * sigma**2) )\n",
    "    samples.append(new_sample)\n",
    "    \n",
    "samples = np.array(samples)\n",
    "samples = samples.sum(axis = 0)\n",
    "samples = samples/samples.sum()\n",
    "\n",
    "\n",
    "fig, ax = plt.subplots(1, 1, figsize=(12, 6))\n",
    "ax.plot(X_plot, samples)\n",
    "ax.set_xlabel('Value',fontsize = 16)\n",
    "ax.set_ylabel('Relative Frequency',fontsize = 16)\n",
    "ax.set_title(f'Gaussian KDE with Bandwidth = {sigma}', fontsize = 20)\n",
    "ax.xaxis.set_tick_params(labelsize=16)\n",
    "ax.yaxis.set_tick_params(labelsize=16)\n",
    "plt.show()"
   ]
  },
  {
   "cell_type": "markdown",
   "metadata": {},
   "source": [
    "Although the previous approximation bears some resemblance to our original data, it is clearly undersmoothed. The following code block shows how we can increase the smoothing by changing the standard deviation for the underlying gaussian curves that we plot at each data point. This is referred to as varying the *bandwidth* for the KDE.\n",
    "\n",
    "[Back to Table of Contents](#Table_of_Contents)<br>"
   ]
  },
  {
   "cell_type": "code",
   "execution_count": 31,
   "metadata": {},
   "outputs": [
    {
     "data": {
      "application/vnd.jupyter.widget-view+json": {
       "model_id": "80778ec06b4e45f3ad9aac2f0acf13d9",
       "version_major": 2,
       "version_minor": 0
      },
      "text/plain": [
       "interactive(children=(Dropdown(description='bandwidth', options=(1.0, 5.0, 10.0, 25.0, 50.0, 100.0, 200.0), va…"
      ]
     },
     "metadata": {},
     "output_type": "display_data"
    }
   ],
   "source": [
    "@interact(bandwidth=[1.00, 5.0, 10.0, 25.0, 50.0, 100.0, 200.0])\n",
    "\n",
    "def vary_bandwidth(bandwidth = 1.00):\n",
    "\n",
    "    X_plot = np.linspace(np.floor(np.min(data)), np.ceil(np.max(data)), 20*int(np.ceil(np.max(data)))).reshape(-1,1)\n",
    "\n",
    "    samples = []\n",
    "    sigma = bandwidth\n",
    "    for i in range(len(data)):\n",
    "        mu = data[i]\n",
    "        new_sample = 1/(sigma * np.sqrt(2 * np.pi)) * np.exp( - (X_plot - mu)**2 / (2 * sigma**2) )\n",
    "        samples.append(new_sample)\n",
    "\n",
    "    samples = np.array(samples)\n",
    "    samples = samples.sum(axis = 0)\n",
    "    samples = samples/samples.sum()\n",
    "\n",
    "\n",
    "    fig, ax = plt.subplots(1, 1, figsize=(12, 6))\n",
    "    ax.plot(X_plot, samples)\n",
    "    ax.set_xlabel('Value',fontsize = 16)\n",
    "    ax.set_ylabel('Relative Frequency',fontsize = 16)\n",
    "    ax.set_title(f'Gaussian KDE with Bandwidth = {sigma}', fontsize = 20)\n",
    "    ax.xaxis.set_tick_params(labelsize=16)\n",
    "    ax.yaxis.set_tick_params(labelsize=16)\n",
    "    plt.show()"
   ]
  },
  {
   "cell_type": "markdown",
   "metadata": {},
   "source": [
    "Now that we understand the intuition behind kernel density estimation, we will now use the functionality offered in the *scikit-learn* package to automate the process. The following code block defines a function that uses *scikit-learn* to determine the best kernel type and bandwidth for approximating the distribution of a data set using a KDE.\n",
    "\n",
    "[Back to Table of Contents](#Table_of_Contents)<br>"
   ]
  },
  {
   "cell_type": "code",
   "execution_count": 32,
   "metadata": {},
   "outputs": [],
   "source": [
    "def fit_best_kde(data, rtol = 0.1, cv = 3, fit_sample_size = None):\n",
    "    '''\n",
    "    This function determines a best fitting kernel density estimate\n",
    "    using scikit-learn's sklearn.neighbors.KernelDensity method along \n",
    "    scikit-learn's sklearn.model_selection.GridSearchCV method. In \n",
    "    particular, the GridSearchCV method is used to try all possible\n",
    "    kernel types with 100 evenly spaced bandwidths between the minimum\n",
    "    and maximum differences between values in the provided data.\n",
    "    \n",
    "    Arguments:\n",
    "    data: a 1-dimensional list or Numpy array that includes the data\n",
    "    \n",
    "    rtol: the relative tolerance passed to sklearn.neighbors.KernelDensity \n",
    "    method. Higher values offer faster computational times at the cost of\n",
    "    accuracy.\n",
    "    \n",
    "    cv: the number of cross-validation splits the sklearn.model_selection.GridSearchCV \n",
    "    method uses to identify the best kde.\n",
    "    \n",
    "    fit_sample_size: a value that, if specified, denotes that a random sample\n",
    "    of size sample_size should be used to fit the kernel density estimate. This\n",
    "    functionality is added to reduce the high computational times that may\n",
    "    occur when the provided data is large.\n",
    "    \n",
    "    Returns:\n",
    "    data: a dictionary specifes the best bandwidth and kernel.         \n",
    "        \n",
    "        \n",
    "    '''\n",
    "    import sklearn.neighbors as skneighbor\n",
    "    from sklearn.model_selection import GridSearchCV\n",
    "    import warnings\n",
    "    import numpy as np\n",
    "    \n",
    "    if type(data) == list:\n",
    "        data = np.array(data)\n",
    "    \n",
    "    with warnings.catch_warnings():\n",
    "        warnings.filterwarnings('ignore')\n",
    "        \n",
    "        if fit_sample_size != None:\n",
    "            data = np.random.choice(data.ravel(), size = fit_sample_size, replace = False)\n",
    "\n",
    "        min_val, max_val = find_min_max_diff(data)\n",
    "\n",
    "        params = {'bandwidth': np.linspace(min_val, max_val, 100),\n",
    "                 'kernel': skneighbor.kde.VALID_KERNELS}\n",
    "        grid = GridSearchCV(skneighbor.KernelDensity(rtol = rtol), params, cv = cv)\n",
    "        grid.fit(data.reshape(-1, 1))\n",
    "\n",
    "        return grid.best_params_"
   ]
  },
  {
   "cell_type": "markdown",
   "metadata": {},
   "source": [
    "The following code block executes the function on our data set and stores the returned data in an object named `best_params`.\n",
    "\n",
    "[Back to Table of Contents](#Table_of_Contents)<br>"
   ]
  },
  {
   "cell_type": "code",
   "execution_count": 33,
   "metadata": {},
   "outputs": [],
   "source": [
    "best_params = fit_best_kde(data)"
   ]
  },
  {
   "cell_type": "markdown",
   "metadata": {},
   "source": [
    "The following code block prints the `best_params` object.\n",
    "\n",
    "[Back to Table of Contents](#Table_of_Contents)<br>"
   ]
  },
  {
   "cell_type": "code",
   "execution_count": 34,
   "metadata": {},
   "outputs": [
    {
     "data": {
      "text/plain": [
       "{'bandwidth': 32.009373737373735, 'kernel': 'exponential'}"
      ]
     },
     "execution_count": 34,
     "metadata": {},
     "output_type": "execute_result"
    }
   ],
   "source": [
    "best_params"
   ]
  },
  {
   "cell_type": "markdown",
   "metadata": {},
   "source": [
    "The following code block defines a function that accepts the following arguments:\n",
    "1. a data set,\n",
    "2. a minimum value (by default, no value is specified),\n",
    "3. a maximum value (by default, no value is specified),\n",
    "4. a bandwidth value (defaults to 1.0),\n",
    "5. a kernel type (defaults to gaussian).\n",
    "\n",
    "It uses these arguments to generate a probability density function for the specified KDE.\n",
    "\n",
    "[Back to Table of Contents](#Table_of_Contents)<br>"
   ]
  },
  {
   "cell_type": "code",
   "execution_count": 35,
   "metadata": {},
   "outputs": [],
   "source": [
    "def pdf_from_kde(data, min = None, max = None, bandwidth = 1.0, kernel = 'gaussian'):\n",
    "    '''\n",
    "    This function generates a probability density function (PDF) that is \n",
    "    based on a kernel density estimate that is fit using scikit-learn's\n",
    "    sklearn.neighbors.KernelDensity method. Specifically, it returns two\n",
    "    objects, pdfx and pdfy, that contain the support and probability values\n",
    "    that define the PDF, respectively. \n",
    "    \n",
    "    Arguments:\n",
    "    data: a 1-dimensional list or Numpy array that includes the data\n",
    "    \n",
    "    min: the minimum value to include in the PDF support (default\n",
    "    is min_value - 0.10*[range between max and min values])\n",
    "    \n",
    "    max: the maximum value to include in the PDF support (default\n",
    "    is max_value + 0.10*[range between max and min values])\n",
    "    \n",
    "    bandwidth: the bandwidth for the kernel density estimate.\n",
    "    \n",
    "    cv: the kernel type, which is passed directly to scikit-learn's\n",
    "    sklearn.neighbors.KernelDensity method\n",
    "    \n",
    "    Returns:\n",
    "    data: two objects, pdfx and pdfy, that contain the support and probability values\n",
    "    that define the PDF, respectively. If a list is provided, two lists are returned.\n",
    "    Otherwise, Numpy arrays are returned.\n",
    "        \n",
    "        \n",
    "    '''\n",
    "\n",
    "    import sklearn.neighbors as skneighbor\n",
    "    import numpy as np\n",
    "    \n",
    "    output_type = 'array'\n",
    "    if type(data) == list:\n",
    "        output_type = 'list'\n",
    "        data = np.array(data)\n",
    "        \n",
    "    if min == None:\n",
    "        min = data.min() - 0.10*(data.max() - data.min())\n",
    "        \n",
    "    if max == None:\n",
    "        max = data.max() + 0.10*(data.max() - data.min())\n",
    "\n",
    "    pdfx = np.linspace(min, max, 1000)\n",
    "    pdfy = np.exp(skneighbor.KernelDensity(bandwidth = bandwidth, \n",
    "                                           kernel= kernel,\n",
    "                                           rtol = 0.1).fit(data.reshape(-1,1)).score_samples(pdfx.reshape(-1,1)))\n",
    "    \n",
    "    if output_type == 'list':    \n",
    "        return list(pdfx), list(pdfy)\n",
    "    else:    \n",
    "        return pdfx, pdfy"
   ]
  },
  {
   "cell_type": "markdown",
   "metadata": {},
   "source": [
    "The following code block uses `pdf_from_kde` to generate a probability density function based on the best KDE that we identifed using the `fit_best_kde` function. The probability density function is plotted.\n",
    "\n",
    "[Back to Table of Contents](#Table_of_Contents)<br>"
   ]
  },
  {
   "cell_type": "code",
   "execution_count": 36,
   "metadata": {},
   "outputs": [
    {
     "data": {
      "image/png": "[encoded data removed]",
      "text/plain": [
       "<Figure size 864x432 with 1 Axes>"
      ]
     },
     "metadata": {
      "needs_background": "light"
     },
     "output_type": "display_data"
    }
   ],
   "source": [
    "pdfx, pdfy = pdf_from_kde(data, \n",
    "                          bandwidth = best_params['bandwidth'], \n",
    "                          kernel = best_params['kernel'])\n",
    "\n",
    "fig, ax = plt.subplots(1, 1, figsize=(12, 6))\n",
    "ax.plot(pdfx, pdfy)\n",
    "ax.set_xlabel('Value',fontsize = 16)\n",
    "ax.set_ylabel('Relative Frequency',fontsize = 16)\n",
    "ax.set_title(f'Probability Density Function from KDE', fontsize = 20)\n",
    "ax.xaxis.set_tick_params(labelsize=16)\n",
    "ax.yaxis.set_tick_params(labelsize=16)\n",
    "plt.show()"
   ]
  },
  {
   "cell_type": "markdown",
   "metadata": {},
   "source": [
    "Finally, we may wish to generate a random data sample using the KDE. The following `trunc_kde_sample` function accepts the probability density function information returned by our `pdf_from_kde` object for such purposes. \n",
    "\n",
    "Given the way that kernel density estimation works, it can be the case that the probability density function that results from using the technique is defined for values that are not valid. For example, it may be defined for negative values when this is not possible in reality. The `trunc_kde_sample` allows a user to specify reasonable minimum and maximum values, as well as the sample size, to make sure that the generated sample includes valid values.\n",
    "\n",
    "[Back to Table of Contents](#Table_of_Contents)<br>"
   ]
  },
  {
   "cell_type": "code",
   "execution_count": 37,
   "metadata": {},
   "outputs": [],
   "source": [
    "def trunc_kde_sample(pdfx, pdfy, low = None, high = None, sample_size = 100, include_plot = False):\n",
    "    '''\n",
    "    This function requires two array-like data objects, pdfx and pdfy,\n",
    "    that specify the support and probabilities for a probability density\n",
    "    function (PDF) defined by a kernel density estimate (see the \n",
    "    pdf_from_kde function). These data objects are used to generate a sample\n",
    "    from the defined PDF that falls between optional lower and upper bounds.\n",
    "    \n",
    "    Arguments:\n",
    "    pdfx: a 1-dimensional list or Numpy array that specifies the PDF support\n",
    "    \n",
    "    pdfy: a 1-dimensional list or Numpy array that specifies the probability\n",
    "    for each value in the PDF support\n",
    "    \n",
    "    low: the lower bound for values in the generated sample\n",
    "    \n",
    "    high: the upper bound for values in the generated sample\n",
    "    \n",
    "    sample_size: the size of the sample to be drawn (1-dimensional only)\n",
    "    \n",
    "    include_plot: True or False to indicate whether or not to plot the sample\n",
    "    \n",
    "    Returns:\n",
    "    gen_sample: the generated sample. If a list is provided for either of the objects, \n",
    "    pdfx or pdfy, the sample is returned as a list. Otherwise, the sample is returned \n",
    "    as a Numpy array.\n",
    "        \n",
    "        \n",
    "    '''\n",
    "    import numpy as np\n",
    "    \n",
    "    output_type = 'array'\n",
    "    if type(pdfx) == list:\n",
    "        output_type = 'list'\n",
    "        pdfx = np.array(pdfx)\n",
    "    \n",
    "    if type(pdfy) == list:\n",
    "        output_type = 'list'\n",
    "        pdfy = np.array(pdfy)\n",
    "    \n",
    "    if (low != None) and (high != None):\n",
    "        mask = pdfx >= low\n",
    "        pdfx = pdfx[mask]\n",
    "        pdfy = pdfy[mask]\n",
    "        \n",
    "        mask = pdfx <= high\n",
    "        pdfx = pdfx[mask]\n",
    "        pdfy = pdfy[mask]\n",
    "        \n",
    "    elif (low != None):\n",
    "        mask = pdfx >= low\n",
    "        pdfx = pdfx[mask]\n",
    "        pdfy = pdfy[mask]\n",
    "        \n",
    "    elif (high != None):\n",
    "        mask = pdfx <= high\n",
    "        pdfx = pdfx[mask]\n",
    "        pdfy = pdfy[mask]\n",
    "        \n",
    "    pdfy = pdfy/pdfy.sum()\n",
    "    cdf = pdfy.cumsum()\n",
    "    cdf = cdf - cdf.min()\n",
    "    \n",
    "    random_nums = np.random.rand(sample_size)\n",
    "    gen_sample = []\n",
    "    for i in random_nums:\n",
    "        gen_sample.append(pdfx[(cdf < i).argmin() - 1])\n",
    "    \n",
    "    if include_plot:\n",
    "        plt.hist(gen_sample, bins = min(sample_size//10, 50), density = True)\n",
    "        plt.plot(pdfx, pdfy)\n",
    "        plt.show()\n",
    "    \n",
    "    if output_type == 'list':\n",
    "        return list(gen_sample)\n",
    "    else:\n",
    "        return gen_sample"
   ]
  },
  {
   "cell_type": "markdown",
   "metadata": {},
   "source": [
    "The following code block demonstrates the use of the `trunc_kde_sample` function.\n",
    "\n",
    "[Back to Table of Contents](#Table_of_Contents)<br>"
   ]
  },
  {
   "cell_type": "code",
   "execution_count": 38,
   "metadata": {},
   "outputs": [
    {
     "data": {
      "image/png": "[encoded data removed]",
      "text/plain": [
       "<Figure size 432x288 with 1 Axes>"
      ]
     },
     "metadata": {
      "needs_background": "light"
     },
     "output_type": "display_data"
    }
   ],
   "source": [
    "my_sample = trunc_kde_sample(pdfx, pdfy, low = 0, sample_size = 500000, include_plot= True)"
   ]
  },
  {
   "cell_type": "markdown",
   "metadata": {},
   "source": [
    "##  Putting it all together\n",
    "<a id=\"Putting_it_all_together\"> </a>\n",
    "\n",
    "Just as an illustration, we will now use the developed function to fit parametric and non-parametric distributions to a set of data and generate samples with minimal code. The following code block generates a new data set for this demonstration.\n",
    "\n",
    "[Back to Table of Contents](#Table_of_Contents)<br>"
   ]
  },
  {
   "cell_type": "code",
   "execution_count": 39,
   "metadata": {},
   "outputs": [
    {
     "data": {
      "image/png": "[encoded data removed]",
      "text/plain": [
       "<Figure size 864x432 with 1 Axes>"
      ]
     },
     "metadata": {
      "needs_background": "light"
     },
     "output_type": "display_data"
    }
   ],
   "source": [
    "np.random.seed(0)\n",
    "data  = np.random.lognormal(mean=1.9, sigma = 0.25, size = 500)\n",
    "\n",
    "fig, ax = plt.subplots(1, 1, figsize = (12, 6))\n",
    "\n",
    "ax.hist(data,  \n",
    "        bins = 'auto', \n",
    "        edgecolor = 'k', \n",
    "        label = \"Original Data\")\n",
    "ax.set_xlabel('Value', fontsize = 15)\n",
    "ax.set_ylabel('Frequency', fontsize = 15)\n",
    "ax.legend()\n",
    "ax.set_title('Histogram of Data', fontsize = 15)\n",
    "\n",
    "plt.show()"
   ]
  },
  {
   "cell_type": "markdown",
   "metadata": {},
   "source": [
    "The following code block uses the parametric approach for fitting a distribution and generating a sample of 1000 data points from the best fitting distribution. The sample is plotted along with the original data.\n",
    "\n",
    "[Back to Table of Contents](#Table_of_Contents)<br>"
   ]
  },
  {
   "cell_type": "code",
   "execution_count": 40,
   "metadata": {},
   "outputs": [
    {
     "data": {
      "image/png": "[encoded data removed]",
      "text/plain": [
       "<Figure size 864x432 with 1 Axes>"
      ]
     },
     "metadata": {
      "needs_background": "light"
     },
     "output_type": "display_data"
    }
   ],
   "source": [
    "fit_data = fit_distributions(data)\n",
    "min_index = fit_data['SSE'].index(min(fit_data['SSE']))\n",
    "my_p_sample = fit_data['Distribution_Generator'][min_index].rvs(1000)\n",
    "\n",
    "fig, ax = plt.subplots(1, 1, figsize = (12, 6))\n",
    "ax.hist(data,  \n",
    "        bins = 'auto', \n",
    "        edgecolor = 'k', \n",
    "        color = 'b',\n",
    "        density = True,\n",
    "        label = 'Original Data')\n",
    "ax.hist(my_p_sample,  \n",
    "        bins = 'auto', \n",
    "        edgecolor = 'k',\n",
    "        color = 'g',\n",
    "        density = True,\n",
    "        alpha = 0.7,\n",
    "        label = 'Parametric  Sample')\n",
    "ax.set_xlabel('Value', fontsize = 15)\n",
    "ax.set_ylabel('Frequency', fontsize = 15)\n",
    "ax.legend()\n",
    "ax.set_title('Histogram of Data', fontsize = 15)\n",
    "\n",
    "plt.show()"
   ]
  },
  {
   "cell_type": "markdown",
   "metadata": {},
   "source": [
    "The following code block uses the non-parametric approach for fitting a distribution and generating a sample of 1000 data points. The sample is plotted along with the original data and the sample generated using parameteric methods.\n",
    "\n",
    "[Back to Table of Contents](#Table_of_Contents)<br>"
   ]
  },
  {
   "cell_type": "code",
   "execution_count": 42,
   "metadata": {
    "scrolled": true
   },
   "outputs": [
    {
     "data": {
      "image/png": "[encoded data removed]",
      "text/plain": [
       "<Figure size 864x432 with 1 Axes>"
      ]
     },
     "metadata": {
      "needs_background": "light"
     },
     "output_type": "display_data"
    }
   ],
   "source": [
    "best_params = fit_best_kde(data)\n",
    "pdfx, pdfy = pdf_from_kde(data, bandwidth = best_params['bandwidth'], kernel = best_params['kernel'])\n",
    "my_np_sample =trunc_kde_sample(pdfx, pdfy, low = 0, sample_size = 1000, include_plot = False)\n",
    "\n",
    "fig, ax = plt.subplots(1, 1, figsize = (12, 6))\n",
    "ax.hist(data,  \n",
    "        bins = 'auto', \n",
    "        edgecolor = 'k', \n",
    "        color = 'b',\n",
    "        density = True,\n",
    "        label = 'Original Data')\n",
    "ax.hist(my_p_sample,  \n",
    "        bins = 'auto', \n",
    "        edgecolor = 'k',\n",
    "        color = 'g',\n",
    "        density = True,\n",
    "        alpha = 0.7,\n",
    "        label = 'Parametric  Sample')\n",
    "ax.hist(my_np_sample,  \n",
    "        bins = 'auto', \n",
    "        edgecolor = 'k',\n",
    "        color = 'y',\n",
    "        density = True,\n",
    "        alpha = 0.3,\n",
    "        label = 'Non-Parametric  Sample')\n",
    "ax.set_xlabel('Value', fontsize = 15)\n",
    "ax.set_ylabel('Frequency', fontsize = 15)\n",
    "ax.legend()\n",
    "ax.set_title('Histogram of Data', fontsize = 15)\n",
    "\n",
    "plt.show()"
   ]
  },
  {
   "cell_type": "markdown",
   "metadata": {},
   "source": [
    "Clearly, both approaches are able to provide reasonable approximations to the data.\n",
    "\n",
    "[Back to Table of Contents](#Table_of_Contents)<br>"
   ]
  }
 ],
 "metadata": {
  "kernelspec": {
   "display_name": "Python 3",
   "language": "python",
   "name": "python3"
  },
  "language_info": {
   "codemirror_mode": {
    "name": "ipython",
    "version": 3
   },
   "file_extension": ".py",
   "mimetype": "text/x-python",
   "name": "python",
   "nbconvert_exporter": "python",
   "pygments_lexer": "ipython3",
   "version": "3.7.1"
  }
 },
 "nbformat": 4,
 "nbformat_minor": 2
}
